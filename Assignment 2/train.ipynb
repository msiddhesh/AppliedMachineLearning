{
 "cells": [
  {
   "cell_type": "markdown",
   "metadata": {},
   "source": [
    "#### **Importing Required Libraries**"
   ]
  },
  {
   "cell_type": "code",
   "execution_count": 1,
   "metadata": {},
   "outputs": [],
   "source": [
    "import random\n",
    "import warnings\n",
    "from urllib.parse import urlparse\n",
    "from sklearn.svm import SVC\n",
    "import matplotlib.pyplot as plt\n",
    "import mlflow\n",
    "import mlflow.sklearn\n",
    "import numpy as np\n",
    "import pandas as pd\n",
    "import seaborn as sns\n",
    "from sklearn.ensemble import RandomForestClassifier\n",
    "from sklearn.linear_model import LogisticRegression\n",
    "from sklearn.feature_extraction.text import TfidfVectorizer\n",
    "from sklearn.metrics import (\n",
    "    accuracy_score,\n",
    "    auc,\n",
    "    precision_score, recall_score, f1_score, average_precision_score,confusion_matrix,\n",
    "    precision_recall_curve,\n",
    ")\n",
    "from sklearn.pipeline import make_pipeline\n",
    "\n",
    "# Set random seed for reproducibility\n",
    "random.seed(21)\n",
    "\n",
    "# Suppress warnings\n",
    "warnings.filterwarnings(\"ignore\")"
   ]
  },
  {
   "cell_type": "markdown",
   "metadata": {},
   "source": [
    "#### Loading the datasets"
   ]
  },
  {
   "cell_type": "code",
   "execution_count": 2,
   "metadata": {},
   "outputs": [],
   "source": [
    "# Load datasets\n",
    "train = pd.read_csv(\"train.csv\").dropna()\n",
    "test = pd.read_csv(\"test.csv\").dropna()\n",
    "val = pd.read_csv(\"validation.csv\").dropna()\n",
    "\n",
    "# Extract features and labels\n",
    "train_X, train_y = train[\"Message\"], train[\"Label\"]\n",
    "test_X, test_y = test[\"Message\"], test[\"Label\"]\n",
    "val_X, val_y = val[\"Message\"], val[\"Label\"]"
   ]
  },
  {
   "cell_type": "code",
   "execution_count": 3,
   "metadata": {},
   "outputs": [
    {
     "name": "stdout",
     "output_type": "stream",
     "text": [
      "Train Samples: 3063\n",
      "Test Samples: 1021\n",
      "Validation Samples: 1021\n"
     ]
    }
   ],
   "source": [
    "print(\"Train Samples:\", train_X.shape[0])\n",
    "print(\"Test Samples:\", test_X.shape[0])\n",
    "print(\"Validation Samples:\", val_X.shape[0])"
   ]
  },
  {
   "cell_type": "code",
   "execution_count": null,
   "metadata": {},
   "outputs": [],
   "source": []
  },
  {
   "cell_type": "markdown",
   "metadata": {},
   "source": [
    "#### Defining AUCPR"
   ]
  },
  {
   "cell_type": "code",
   "execution_count": 4,
   "metadata": {},
   "outputs": [],
   "source": [
    "def AUCPR(predictions, y_test):\n",
    "    precision, recall, _ = precision_recall_curve(y_test, predictions)\n",
    "    return auc(recall, precision)"
   ]
  },
  {
   "cell_type": "markdown",
   "metadata": {},
   "source": [
    "##### Define benchmark models"
   ]
  },
  {
   "cell_type": "code",
   "execution_count": 5,
   "metadata": {},
   "outputs": [],
   "source": [
    "models = {\n",
    "    \"Logistic Regression\": LogisticRegression(max_iter=1000),\n",
    "    \"Random Forest\": RandomForestClassifier(n_estimators=100),\n",
    "    \"Support Vector Machine\": SVC(probability=True)\n",
    "}"
   ]
  },
  {
   "cell_type": "code",
   "execution_count": null,
   "metadata": {},
   "outputs": [],
   "source": []
  },
  {
   "cell_type": "markdown",
   "metadata": {},
   "source": [
    "- ##### Code to clear past mlruns"
   ]
  },
  {
   "cell_type": "code",
   "execution_count": null,
   "metadata": {},
   "outputs": [],
   "source": [
    "# import os\n",
    "# import mlflow\n",
    "\n",
    "# # Define MLflow tracking directory with correct Windows path\n",
    "# mlflow_tracking_dir = \"E:\\Sem 3\\AppliedMachineLearning\\Assignment 2\\mlruns\"\n",
    "\n",
    "# # Set MLflow tracking URI (use `os.path.abspath()` for Windows compatibility)\n",
    "# mlflow.set_tracking_uri(f\"file:///{os.path.abspath(mlflow_tracking_dir).replace('\\\\', '/')}\")\n",
    "\n",
    "# # Explicitly create or set an experiment\n",
    "# experiment_name = \"Spam Detection Benchmark Models\"\n",
    "\n",
    "# mlflow.set_experiment(experiment_name)\n",
    "\n",
    "# print(f\"MLflow is tracking experiments in: {mlflow_tracking_dir}\")"
   ]
  },
  {
   "cell_type": "markdown",
   "metadata": {},
   "source": [
    "#### Function to evaluate and print metrics"
   ]
  },
  {
   "cell_type": "code",
   "execution_count": 7,
   "metadata": {},
   "outputs": [],
   "source": [
    "def evaluate_model(model, X_val, y_val, model_name,set_name):\n",
    "    predictions = model.predict(X_val)\n",
    "    pred_probs = model.predict_proba(X_val)[:, 1] if hasattr(model, \"predict_proba\") else None\n",
    "    \n",
    "    accuracy = accuracy_score(y_val, predictions) * 100\n",
    "    precision = precision_score(y_val, predictions) * 100\n",
    "    recall = recall_score(y_val, predictions) * 100\n",
    "    f1 = f1_score(y_val, predictions) * 100\n",
    "    aucpr = average_precision_score(y_val, pred_probs) * 100 if pred_probs is not None else \"N/A\"\n",
    "    \n",
    "    print(f\"{model_name}\\n\\n\")\n",
    "    print(f\"On {set_name} Dataset:\")\n",
    "    print(f\"Accuracy : {accuracy:.2f}%\")\n",
    "    print(f\"Precision : {precision:.2f}%\")\n",
    "    print(f\"Recall : {recall:.2f}%\")\n",
    "    print(f\"F1 Score : {f1:.2f}%\")\n",
    "    print(f\"**** AUCPR : {aucpr}% ****\")\n",
    "    print(\"\\n\" + \"-\" * 50 + \"\\n\")\n"
   ]
  },
  {
   "cell_type": "code",
   "execution_count": null,
   "metadata": {},
   "outputs": [],
   "source": []
  },
  {
   "cell_type": "markdown",
   "metadata": {},
   "source": [
    "#### Traning and testing (along with validation set )"
   ]
  },
  {
   "cell_type": "code",
   "execution_count": 8,
   "metadata": {},
   "outputs": [
    {
     "name": "stdout",
     "output_type": "stream",
     "text": [
      "Support Vector Classifier (SVC)\n",
      "\n",
      "\n",
      "On Test Dataset:\n",
      "Accuracy : 97.16%\n",
      "Precision : 98.02%\n",
      "Recall : 78.57%\n",
      "F1 Score : 87.22%\n",
      "**** AUCPR : 97.07321454294792% ****\n",
      "\n",
      "--------------------------------------------------\n",
      "\n",
      "Support Vector Classifier (SVC)\n",
      "\n",
      "\n",
      "On validation Dataset:\n",
      "Accuracy : 96.96%\n",
      "Precision : 100.00%\n",
      "Recall : 75.59%\n",
      "F1 Score : 86.10%\n",
      "**** AUCPR : 96.52037009982595% ****\n",
      "\n",
      "--------------------------------------------------\n",
      "\n",
      "Logistic Regression\n",
      "\n",
      "\n",
      "On Test Dataset:\n",
      "Accuracy : 95.30%\n",
      "Precision : 96.43%\n",
      "Recall : 64.29%\n",
      "F1 Score : 77.14%\n",
      "**** AUCPR : 92.84592507038877% ****\n",
      "\n",
      "--------------------------------------------------\n",
      "\n",
      "Logistic Regression\n",
      "\n",
      "\n",
      "On validation Dataset:\n",
      "Accuracy : 94.71%\n",
      "Precision : 96.20%\n",
      "Recall : 59.84%\n",
      "F1 Score : 73.79%\n",
      "**** AUCPR : 94.10158012973164% ****\n",
      "\n",
      "--------------------------------------------------\n",
      "\n",
      "Random Forest Classifier\n",
      "\n",
      "\n",
      "On Test Dataset:\n",
      "Accuracy : 95.89%\n",
      "Precision : 100.00%\n",
      "Recall : 66.67%\n",
      "F1 Score : 80.00%\n",
      "**** AUCPR : 96.44248703025087% ****\n",
      "\n",
      "--------------------------------------------------\n",
      "\n",
      "Random Forest Classifier\n",
      "\n",
      "\n",
      "On validation Dataset:\n",
      "Accuracy : 96.57%\n",
      "Precision : 100.00%\n",
      "Recall : 72.44%\n",
      "F1 Score : 84.02%\n",
      "**** AUCPR : 95.18626522790119% ****\n",
      "\n",
      "--------------------------------------------------\n",
      "\n"
     ]
    }
   ],
   "source": [
    "# Support Vector Classifier (SVC)\n",
    "pipeline_svc = make_pipeline(TfidfVectorizer(), SVC(probability=True, random_state=21))\n",
    "pipeline_svc.fit(train_X, train_y)\n",
    "evaluate_model(pipeline_svc, test_X, test_y, \"Support Vector Classifier (SVC)\",set_name=\"Test\")\n",
    "evaluate_model(pipeline_svc, val_X, val_y, \"Support Vector Classifier (SVC)\",set_name=\"validation\")\n",
    "\n",
    "# Logistic Regression\n",
    "pipeline_lr = make_pipeline(TfidfVectorizer(), LogisticRegression(random_state=21))\n",
    "pipeline_lr.fit(train_X, train_y)\n",
    "evaluate_model(pipeline_lr, test_X, test_y, \"Logistic Regression\",set_name=\"Test\")\n",
    "evaluate_model(pipeline_lr, val_X, val_y, \"Logistic Regression\",set_name=\"validation\")\n",
    "\n",
    "# Random Forest Classifier\n",
    "pipeline_rf = make_pipeline(TfidfVectorizer(), RandomForestClassifier(random_state=21, max_depth=60, n_jobs=-1))\n",
    "pipeline_rf.fit(train_X, train_y)\n",
    "evaluate_model(pipeline_rf, test_X, test_y, \"Random Forest Classifier\",set_name=\"Test\")\n",
    "evaluate_model(pipeline_rf, val_X, val_y, \"Random Forest Classifier\",set_name=\"validation\")"
   ]
  },
  {
   "cell_type": "markdown",
   "metadata": {},
   "source": [
    "### logging the models"
   ]
  },
  {
   "cell_type": "code",
   "execution_count": 9,
   "metadata": {},
   "outputs": [],
   "source": [
    "def log_model(pipeline, X_test, y_test, X_val, y_val, model_name):\n",
    "    with mlflow.start_run(run_name=model_name):\n",
    "\n",
    "        y_pred_test = pipeline.predict(X_test)\n",
    "        y_pred_val = pipeline.predict(X_val)\n",
    "        \n",
    "        train_accuracy = pipeline.score(X_test, y_test)\n",
    "        val_accuracy = pipeline.score(X_val, y_val)\n",
    "\n",
    "        print(f\"Training Accuracy: {train_accuracy}\")\n",
    "        print(f\"Validation Accuracy: {val_accuracy}\")\n",
    "\n",
    "        mlflow.log_param(\"model_name\", model_name)\n",
    "\n",
    "        # Logging test metrics\n",
    "        test_accuracy = accuracy_score(y_test, y_pred_test)\n",
    "        aucpr_test = AUCPR(y_test, y_pred_test)\n",
    "        \n",
    "        mlflow.log_metric(\"accuracy\", test_accuracy)\n",
    "        mlflow.log_metric(\"precision\", precision_score(y_test, y_pred_test, average='weighted'))\n",
    "        mlflow.log_metric(\"recall\", recall_score(y_test, y_pred_test, average='weighted'))\n",
    "        mlflow.log_metric(\"f1_score\", f1_score(y_test, y_pred_test, average='weighted'))\n",
    "        mlflow.log_metric(\"AUCPR\", aucpr_test)\n",
    "        mlflow.log_dict(np.array(confusion_matrix(y_test, y_pred_test)).tolist(), \"confusion_matrix.json\")\n",
    "\n",
    "        print(f\"\\nModel ({model_name}):\")\n",
    "        print(f\"Accuracy: {test_accuracy}\")\n",
    "        print(f\"AUCPR: {aucpr_test}\")\n",
    "        print(f\"Confusion Matrix:\\n {confusion_matrix(y_test, y_pred_test)} \\n\")\n",
    "\n",
    "        # Logging validation AUCPR\n",
    "        aucpr_val = AUCPR(y_val, y_pred_val)\n",
    "        mlflow.log_metric(\"Validation AUCPR\", aucpr_val)\n",
    "        print(f\"Validation AUCPR: {aucpr_val}\")\n",
    "\n",
    "        input_example = pd.DataFrame(X_test[:1])  # Ensuring input_example is a DataFrame\n",
    "        mlflow.sklearn.log_model(pipeline, \"model\", input_example=input_example)\n",
    "        mlflow.register_model(f\"runs:/{mlflow.active_run().info.run_id}/{model_name}_val\", model_name)\n"
   ]
  },
  {
   "cell_type": "code",
   "execution_count": null,
   "metadata": {},
   "outputs": [],
   "source": []
  },
  {
   "cell_type": "markdown",
   "metadata": {},
   "source": [
    "# Logging models Version -1 "
   ]
  },
  {
   "cell_type": "code",
   "execution_count": 10,
   "metadata": {},
   "outputs": [
    {
     "name": "stdout",
     "output_type": "stream",
     "text": [
      "Training Accuracy: 0.9715964740450539\n",
      "Validation Accuracy: 0.9696376101860921\n",
      "\n",
      "Model (Support Vector Classifier):\n",
      "Accuracy: 0.9715964740450539\n",
      "AUCPR: 0.8839355846876138\n",
      "Confusion Matrix:\n",
      " [[893   2]\n",
      " [ 27  99]] \n",
      "\n",
      "Validation AUCPR: 0.8779527559055118\n"
     ]
    },
    {
     "data": {
      "application/vnd.jupyter.widget-view+json": {
       "model_id": "b09800420ba24e5892f2772ea1ebaf6d",
       "version_major": 2,
       "version_minor": 0
      },
      "text/plain": [
       "Downloading artifacts:   0%|          | 0/7 [00:00<?, ?it/s]"
      ]
     },
     "metadata": {},
     "output_type": "display_data"
    },
    {
     "name": "stderr",
     "output_type": "stream",
     "text": [
      "Successfully registered model 'Support Vector Classifier'.\n",
      "Created version '1' of model 'Support Vector Classifier'.\n"
     ]
    },
    {
     "name": "stdout",
     "output_type": "stream",
     "text": [
      "Training Accuracy: 0.9529872673849168\n",
      "Validation Accuracy: 0.9471106758080313\n",
      "\n",
      "Model (Logistic Regression):\n",
      "Accuracy: 0.9529872673849168\n",
      "AUCPR: 0.8050405764656499\n",
      "Confusion Matrix:\n",
      " [[892   3]\n",
      " [ 45  81]] \n",
      "\n",
      "Validation AUCPR: 0.7816944045472664\n"
     ]
    },
    {
     "data": {
      "application/vnd.jupyter.widget-view+json": {
       "model_id": "ab3467e5e24c4e16a72f7c4955f980cb",
       "version_major": 2,
       "version_minor": 0
      },
      "text/plain": [
       "Downloading artifacts:   0%|          | 0/7 [00:00<?, ?it/s]"
      ]
     },
     "metadata": {},
     "output_type": "display_data"
    },
    {
     "name": "stderr",
     "output_type": "stream",
     "text": [
      "Successfully registered model 'Logistic Regression'.\n",
      "Created version '1' of model 'Logistic Regression'.\n"
     ]
    },
    {
     "name": "stdout",
     "output_type": "stream",
     "text": [
      "Training Accuracy: 0.9588638589618022\n",
      "Validation Accuracy: 0.9657198824681684\n",
      "\n",
      "Model (Random Forest Classifier):\n",
      "Accuracy: 0.9588638589618022\n",
      "AUCPR: 0.8333333333333333\n",
      "Confusion Matrix:\n",
      " [[895   0]\n",
      " [ 42  84]] \n",
      "\n",
      "Validation AUCPR: 0.8622047244094488\n"
     ]
    },
    {
     "data": {
      "application/vnd.jupyter.widget-view+json": {
       "model_id": "f190841aba454c82acf0782eaa3aa0e0",
       "version_major": 2,
       "version_minor": 0
      },
      "text/plain": [
       "Downloading artifacts:   0%|          | 0/7 [00:00<?, ?it/s]"
      ]
     },
     "metadata": {},
     "output_type": "display_data"
    },
    {
     "name": "stderr",
     "output_type": "stream",
     "text": [
      "Successfully registered model 'Random Forest Classifier'.\n",
      "Created version '1' of model 'Random Forest Classifier'.\n"
     ]
    }
   ],
   "source": [
    "# Logging models\n",
    "log_model(pipeline_svc, test_X, test_y, val_X, val_y, \"Support Vector Classifier\")\n",
    "log_model(pipeline_lr, test_X, test_y, val_X, val_y, \"Logistic Regression\")\n",
    "log_model(pipeline_rf, test_X, test_y, val_X, val_y, \"Random Forest Classifier\")"
   ]
  },
  {
   "cell_type": "code",
   "execution_count": null,
   "metadata": {},
   "outputs": [],
   "source": []
  },
  {
   "cell_type": "markdown",
   "metadata": {},
   "source": [
    "# Logging models Version -2 ( By update in some parameters)\n"
   ]
  },
  {
   "cell_type": "code",
   "execution_count": 11,
   "metadata": {},
   "outputs": [
    {
     "name": "stdout",
     "output_type": "stream",
     "text": [
      "Support Vector Classifier (V2)\n",
      "\n",
      "\n",
      "On Test Dataset:\n",
      "Accuracy : 92.75%\n",
      "Precision : 100.00%\n",
      "Recall : 41.27%\n",
      "F1 Score : 58.43%\n",
      "**** AUCPR : 95.60903160517886% ****\n",
      "\n",
      "--------------------------------------------------\n",
      "\n",
      "Support Vector Classifier (V2)\n",
      "\n",
      "\n",
      "On Validation Dataset:\n",
      "Accuracy : 92.16%\n",
      "Precision : 100.00%\n",
      "Recall : 37.01%\n",
      "F1 Score : 54.02%\n",
      "**** AUCPR : 96.1220593803229% ****\n",
      "\n",
      "--------------------------------------------------\n",
      "\n",
      "Logistic Regression (V2)\n",
      "\n",
      "\n",
      "On Test Dataset:\n",
      "Accuracy : 96.08%\n",
      "Precision : 95.74%\n",
      "Recall : 71.43%\n",
      "F1 Score : 81.82%\n",
      "**** AUCPR : 94.77895184749521% ****\n",
      "\n",
      "--------------------------------------------------\n",
      "\n",
      "Logistic Regression (V2)\n",
      "\n",
      "\n",
      "On Validation Dataset:\n",
      "Accuracy : 96.28%\n",
      "Precision : 96.84%\n",
      "Recall : 72.44%\n",
      "F1 Score : 82.88%\n",
      "**** AUCPR : 95.2483951622973% ****\n",
      "\n",
      "--------------------------------------------------\n",
      "\n",
      "Random Forest Classifier (V2)\n",
      "\n",
      "\n",
      "On Test Dataset:\n",
      "Accuracy : 96.57%\n",
      "Precision : 96.91%\n",
      "Recall : 74.60%\n",
      "F1 Score : 84.30%\n",
      "**** AUCPR : 95.87654617589419% ****\n",
      "\n",
      "--------------------------------------------------\n",
      "\n",
      "Random Forest Classifier (V2)\n",
      "\n",
      "\n",
      "On Validation Dataset:\n",
      "Accuracy : 96.77%\n",
      "Precision : 97.96%\n",
      "Recall : 75.59%\n",
      "F1 Score : 85.33%\n",
      "**** AUCPR : 95.00933758651222% ****\n",
      "\n",
      "--------------------------------------------------\n",
      "\n"
     ]
    }
   ],
   "source": [
    "# Update parameters for Version 2\n",
    "pipeline_svc.set_params(svc__C=3.0, svc__kernel=\"poly\")  # Change C value and use polynomial kernel\n",
    "pipeline_lr.set_params(logisticregression__C=2.0, logisticregression__solver=\"saga\", logisticregression__max_iter=250)  # Adjust C, solver, and iterations\n",
    "pipeline_rf.set_params(randomforestclassifier__n_estimators=300, \n",
    "                        randomforestclassifier__max_depth=100, \n",
    "                        randomforestclassifier__min_samples_split=10)  # More trees, deeper splits\n",
    "\n",
    "# Retrain models with updated parameters\n",
    "pipeline_svc.fit(train_X, train_y)\n",
    "pipeline_lr.fit(train_X, train_y)\n",
    "pipeline_rf.fit(train_X, train_y)\n",
    "\n",
    "# Evaluate updated models\n",
    "evaluate_model(pipeline_svc, test_X, test_y, \"Support Vector Classifier (V2)\", set_name=\"Test\")\n",
    "evaluate_model(pipeline_svc, val_X, val_y, \"Support Vector Classifier (V2)\", set_name=\"Validation\")\n",
    "\n",
    "evaluate_model(pipeline_lr, test_X, test_y, \"Logistic Regression (V2)\", set_name=\"Test\")\n",
    "evaluate_model(pipeline_lr, val_X, val_y, \"Logistic Regression (V2)\", set_name=\"Validation\")\n",
    "\n",
    "evaluate_model(pipeline_rf, test_X, test_y, \"Random Forest Classifier (V2)\", set_name=\"Test\")\n",
    "evaluate_model(pipeline_rf, val_X, val_y, \"Random Forest Classifier (V2)\", set_name=\"Validation\")\n"
   ]
  },
  {
   "cell_type": "markdown",
   "metadata": {},
   "source": [
    "##### Log Version 2 in MLflow"
   ]
  },
  {
   "cell_type": "code",
   "execution_count": 12,
   "metadata": {},
   "outputs": [
    {
     "name": "stdout",
     "output_type": "stream",
     "text": [
      "Training Accuracy: 0.9275220372184133\n",
      "Validation Accuracy: 0.921645445641528\n",
      "\n",
      "Model (Support Vector Classifier):\n",
      "Accuracy: 0.9275220372184133\n",
      "AUCPR: 0.7063492063492063\n",
      "Confusion Matrix:\n",
      " [[895   0]\n",
      " [ 74  52]] \n",
      "\n",
      "Validation AUCPR: 0.6850393700787402\n"
     ]
    },
    {
     "data": {
      "application/vnd.jupyter.widget-view+json": {
       "model_id": "1d1c28aad31e4f61b0e789e8c5e2e615",
       "version_major": 2,
       "version_minor": 0
      },
      "text/plain": [
       "Downloading artifacts:   0%|          | 0/7 [00:00<?, ?it/s]"
      ]
     },
     "metadata": {},
     "output_type": "display_data"
    },
    {
     "name": "stderr",
     "output_type": "stream",
     "text": [
      "Registered model 'Support Vector Classifier' already exists. Creating a new version of this model...\n",
      "Created version '2' of model 'Support Vector Classifier'.\n"
     ]
    },
    {
     "name": "stdout",
     "output_type": "stream",
     "text": [
      "Training Accuracy: 0.960822722820764\n",
      "Validation Accuracy: 0.9627815866797258\n",
      "\n",
      "Model (Logistic Regression):\n",
      "Accuracy: 0.960822722820764\n",
      "AUCPR: 0.8378251252571381\n",
      "Confusion Matrix:\n",
      " [[891   4]\n",
      " [ 36  90]] \n",
      "\n",
      "Validation AUCPR: 0.8478843986194596\n"
     ]
    },
    {
     "data": {
      "application/vnd.jupyter.widget-view+json": {
       "model_id": "1da903bbcc95420389eed99f4e6647a3",
       "version_major": 2,
       "version_minor": 0
      },
      "text/plain": [
       "Downloading artifacts:   0%|          | 0/7 [00:00<?, ?it/s]"
      ]
     },
     "metadata": {},
     "output_type": "display_data"
    },
    {
     "name": "stderr",
     "output_type": "stream",
     "text": [
      "Registered model 'Logistic Regression' already exists. Creating a new version of this model...\n",
      "Created version '2' of model 'Logistic Regression'.\n"
     ]
    },
    {
     "name": "stdout",
     "output_type": "stream",
     "text": [
      "Training Accuracy: 0.9657198824681684\n",
      "Validation Accuracy: 0.9676787463271302\n",
      "\n",
      "Model (Random Forest Classifier):\n",
      "Accuracy: 0.9657198824681684\n",
      "AUCPR: 0.8590211033843211\n",
      "Confusion Matrix:\n",
      " [[892   3]\n",
      " [ 32  94]] \n",
      "\n",
      "Validation AUCPR: 0.8687281062023396\n"
     ]
    },
    {
     "data": {
      "application/vnd.jupyter.widget-view+json": {
       "model_id": "28c96aa002d0414a96e7ad7b75ad535b",
       "version_major": 2,
       "version_minor": 0
      },
      "text/plain": [
       "Downloading artifacts:   0%|          | 0/7 [00:00<?, ?it/s]"
      ]
     },
     "metadata": {},
     "output_type": "display_data"
    },
    {
     "name": "stderr",
     "output_type": "stream",
     "text": [
      "Registered model 'Random Forest Classifier' already exists. Creating a new version of this model...\n",
      "Created version '2' of model 'Random Forest Classifier'.\n"
     ]
    }
   ],
   "source": [
    "# Log Version 2 in MLflow\n",
    "log_model(pipeline_svc, test_X, test_y, val_X, val_y, \"Support Vector Classifier\")\n",
    "log_model(pipeline_lr, test_X, test_y, val_X, val_y, \"Logistic Regression\")\n",
    "log_model(pipeline_rf, test_X, test_y, val_X, val_y, \"Random Forest Classifier\")"
   ]
  },
  {
   "cell_type": "code",
   "execution_count": null,
   "metadata": {},
   "outputs": [],
   "source": []
  },
  {
   "cell_type": "markdown",
   "metadata": {},
   "source": [
    "#### Best Model Selection Based on AUCPR"
   ]
  },
  {
   "cell_type": "code",
   "execution_count": null,
   "metadata": {},
   "outputs": [
    {
     "name": "stdout",
     "output_type": "stream",
     "text": [
      "\n",
      "=== Best Model Selection Based on AUCPR ===\n",
      "🔹 Best AUCPR for Logistic Regression: 0.8378251252571381\n",
      "🔹 Best AUCPR for Random Forest Classifier: 0.8590211033843211\n",
      "🔹 Best AUCPR for Support Vector Classifier: 0.8839355846876138\n",
      "\n",
      "🏆 Overall Best Model: Support Vector Classifier (Version 1) with AUCPR: 0.8839355846876138\n"
     ]
    }
   ],
   "source": [
    "from mlflow.tracking import MlflowClient\n",
    "\n",
    "def select_best_model(model_names):\n",
    "    client = MlflowClient()\n",
    "    print(\"\\n=== Best Model Selection Based on AUCPR ===\")\n",
    "    \n",
    "    overall_best_model = None\n",
    "    overall_best_aucpr = -1  # Track the highest AUCPR across all models\n",
    "    \n",
    "    for model_name in model_names:\n",
    "        versions = client.search_model_versions(f\"name='{model_name}'\")\n",
    "        best_version = None\n",
    "        best_aucpr = -1  # Start with a very low AUCPR for each model\n",
    "        \n",
    "        for version in versions:\n",
    "            if version.current_stage in [\"Staging\", \"None\"]:  # Include these stages\n",
    "                run = client.get_run(version.run_id)\n",
    "                aucpr = float(run.data.metrics.get(\"AUCPR\", 0))  # Get AUCPR\n",
    "                \n",
    "                if aucpr > best_aucpr:\n",
    "                    best_aucpr = aucpr\n",
    "                    best_version = version  # Store best version\n",
    "        \n",
    "        # Print the best AUCPR per model\n",
    "        if best_version:\n",
    "            print(f\"🔹 Best AUCPR for {model_name}: {best_aucpr}\")\n",
    "            \n",
    "            # Update overall best model\n",
    "            if best_aucpr > overall_best_aucpr:\n",
    "                overall_best_aucpr = best_aucpr\n",
    "                overall_best_model = (model_name, best_version.version)\n",
    "        else:\n",
    "            print(f\"⚠️ No valid versions found for {model_name}\")\n",
    "\n",
    "    # Print overall best model\n",
    "    if overall_best_model:\n",
    "        print(f\"\\n🏆 Overall Best Model: {overall_best_model[0]} (Version {overall_best_model[1]}) with AUCPR: {overall_best_aucpr}\")\n",
    "    else:\n",
    "        print(\"\\n⚠️ No valid models found!\")\n",
    "\n",
    "# Define models to check\n",
    "model_names = [\"Logistic Regression\", \"Random Forest Classifier\", \"Support Vector Classifier\"]\n",
    "select_best_model(model_names)\n"
   ]
  },
  {
   "cell_type": "code",
   "execution_count": null,
   "metadata": {},
   "outputs": [],
   "source": []
  }
 ],
 "metadata": {
  "kernelspec": {
   "display_name": "Python 3",
   "language": "python",
   "name": "python3"
  },
  "language_info": {
   "codemirror_mode": {
    "name": "ipython",
    "version": 3
   },
   "file_extension": ".py",
   "mimetype": "text/x-python",
   "name": "python",
   "nbconvert_exporter": "python",
   "pygments_lexer": "ipython3",
   "version": "3.12.1"
  }
 },
 "nbformat": 4,
 "nbformat_minor": 2
}
