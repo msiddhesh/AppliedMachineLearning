{
  "cells": [
    {
      "cell_type": "markdown",
      "source": [
        "#### Importing and organizing data"
      ],
      "metadata": {
        "id": "-HjMBVSCKKDW"
      },
      "id": "-HjMBVSCKKDW"
    },
    {
      "cell_type": "code",
      "source": [
        "import kagglehub\n",
        "import shutil\n",
        "import os\n",
        "\n",
        "# Download the dataset (cached path)\n",
        "cached_path = kagglehub.dataset_download(\"roudranildas/chicken-images-classification-dataset\")\n",
        "\n",
        "# Define target path (working directory)\n",
        "target_path = \"/content/\"\n",
        "\n",
        "# Copy from cache to working directory\n",
        "shutil.copytree(cached_path, target_path, dirs_exist_ok=True)\n",
        "\n",
        "# New structure path\n",
        "base_dir = \"/content/organized-data\"\n",
        "splits = ['train', 'val', 'test']\n",
        "classes = ['chicken', 'duck']\n",
        "\n",
        "# Create new folders\n",
        "for split in splits:\n",
        "\n",
        "    for cls in classes:\n",
        "        os.makedirs(os.path.join(base_dir, split, cls), exist_ok=True)\n",
        "\n",
        "# Copy files\n",
        "for cls in classes:\n",
        "    src_root = f\"/content/data/{cls}-images/data\"\n",
        "    for split in splits:\n",
        "        src = os.path.join(src_root, split)\n",
        "        dst = os.path.join(base_dir, split, cls)\n",
        "        for file in os.listdir(src):\n",
        "            shutil.copy(os.path.join(src, file), dst)\n"
      ],
      "metadata": {
        "colab": {
          "base_uri": "https://localhost:8080/"
        },
        "id": "4nnbufEsJfRO",
        "outputId": "546a25ca-e6b7-4521-a160-72354bfb42ad"
      },
      "id": "4nnbufEsJfRO",
      "execution_count": 1,
      "outputs": [
        {
          "output_type": "stream",
          "name": "stdout",
          "text": [
            "Downloading from https://www.kaggle.com/api/v1/datasets/download/roudranildas/chicken-images-classification-dataset?dataset_version_number=3...\n"
          ]
        },
        {
          "output_type": "stream",
          "name": "stderr",
          "text": [
            "100%|██████████| 43.0M/43.0M [00:00<00:00, 155MB/s]"
          ]
        },
        {
          "output_type": "stream",
          "name": "stdout",
          "text": [
            "Extracting files...\n"
          ]
        },
        {
          "output_type": "stream",
          "name": "stderr",
          "text": [
            "\n"
          ]
        }
      ]
    },
    {
      "cell_type": "markdown",
      "source": [
        "# Step 1:  Import necessary libraries"
      ],
      "metadata": {
        "id": "ej2ezz9RIID0"
      },
      "id": "ej2ezz9RIID0"
    },
    {
      "cell_type": "code",
      "source": [
        "# Step 1: Setup\n",
        "import torch\n",
        "import torch.nn as nn\n",
        "from torchvision import datasets, transforms, models\n",
        "from torch.utils.data import DataLoader\n",
        "from sklearn.metrics import classification_report\n",
        "import matplotlib.pyplot as plt\n",
        "import numpy as np\n",
        "import os\n",
        "\n",
        "device = torch.device(\"cuda\" if torch.cuda.is_available() else \"cpu\")\n",
        "print(device)"
      ],
      "metadata": {
        "colab": {
          "base_uri": "https://localhost:8080/"
        },
        "id": "5sieY2jUE-M5",
        "outputId": "db34ccd6-a37c-43f4-c860-6751a3058e08"
      },
      "id": "5sieY2jUE-M5",
      "execution_count": 2,
      "outputs": [
        {
          "output_type": "stream",
          "name": "stdout",
          "text": [
            "cuda\n"
          ]
        }
      ]
    },
    {
      "cell_type": "markdown",
      "source": [
        "# Step 2: Load dataset"
      ],
      "metadata": {
        "id": "lqDK7s_YKcxC"
      },
      "id": "lqDK7s_YKcxC"
    },
    {
      "cell_type": "code",
      "source": [
        "from torchvision import datasets, transforms\n",
        "\n",
        "transform = transforms.Compose([\n",
        "    transforms.Resize((224, 224)),\n",
        "    transforms.ToTensor()\n",
        "])\n",
        "\n",
        "base_dir = \"/content/organized-data\"\n",
        "\n",
        "train_ds = datasets.ImageFolder(root=os.path.join(base_dir, 'train'), transform=transform)\n",
        "val_ds = datasets.ImageFolder(root=os.path.join(base_dir, 'val'), transform=transform)\n",
        "test_ds = datasets.ImageFolder(root=os.path.join(base_dir, 'test'), transform=transform)\n",
        "\n",
        "train_loader = DataLoader(train_ds, batch_size=16, shuffle=True)\n",
        "val_loader = DataLoader(val_ds, batch_size=16, shuffle=False)\n",
        "test_loader = DataLoader(test_ds, batch_size=16, shuffle=False)\n",
        "\n",
        "print(\"Classes:\", train_ds.classes)"
      ],
      "metadata": {
        "colab": {
          "base_uri": "https://localhost:8080/"
        },
        "id": "xUvziCKcIGXL",
        "outputId": "34116dfe-368f-4cfb-b5f0-7f7476bb151e"
      },
      "id": "xUvziCKcIGXL",
      "execution_count": 3,
      "outputs": [
        {
          "output_type": "stream",
          "name": "stdout",
          "text": [
            "Classes: ['chicken', 'duck']\n"
          ]
        }
      ]
    },
    {
      "cell_type": "markdown",
      "source": [
        "# Step 3: Load pre-trained model"
      ],
      "metadata": {
        "id": "NsEXGyAFKXpN"
      },
      "id": "NsEXGyAFKXpN"
    },
    {
      "cell_type": "code",
      "source": [
        "model = models.resnet18(pretrained=True)\n",
        "num_ftrs = model.fc.in_features\n",
        "model.fc = nn.Linear(num_ftrs, 2)  # Chicken vs Duck\n",
        "model = model.to(device)\n",
        "\n",
        "# Loss and optimizer\n",
        "criterion = nn.CrossEntropyLoss()\n",
        "optimizer = torch.optim.Adam(model.parameters(), lr=0.0001)"
      ],
      "metadata": {
        "colab": {
          "base_uri": "https://localhost:8080/"
        },
        "id": "IrX5aqyWKCmh",
        "outputId": "6604ac80-182a-4ad0-f0cc-efe5bd4b476e"
      },
      "id": "IrX5aqyWKCmh",
      "execution_count": 4,
      "outputs": [
        {
          "output_type": "stream",
          "name": "stderr",
          "text": [
            "/usr/local/lib/python3.11/dist-packages/torchvision/models/_utils.py:208: UserWarning: The parameter 'pretrained' is deprecated since 0.13 and may be removed in the future, please use 'weights' instead.\n",
            "  warnings.warn(\n",
            "/usr/local/lib/python3.11/dist-packages/torchvision/models/_utils.py:223: UserWarning: Arguments other than a weight enum or `None` for 'weights' are deprecated since 0.13 and may be removed in the future. The current behavior is equivalent to passing `weights=ResNet18_Weights.IMAGENET1K_V1`. You can also use `weights=ResNet18_Weights.DEFAULT` to get the most up-to-date weights.\n",
            "  warnings.warn(msg)\n",
            "Downloading: \"https://download.pytorch.org/models/resnet18-f37072fd.pth\" to /root/.cache/torch/hub/checkpoints/resnet18-f37072fd.pth\n",
            "100%|██████████| 44.7M/44.7M [00:00<00:00, 83.5MB/s]\n"
          ]
        }
      ]
    },
    {
      "cell_type": "code",
      "source": [
        "model"
      ],
      "metadata": {
        "id": "vpNj6VdFQFK1",
        "outputId": "29260a54-4da7-48f0-96a8-0796332e523a",
        "colab": {
          "base_uri": "https://localhost:8080/"
        }
      },
      "id": "vpNj6VdFQFK1",
      "execution_count": 25,
      "outputs": [
        {
          "output_type": "execute_result",
          "data": {
            "text/plain": [
              "ResNet(\n",
              "  (conv1): Conv2d(3, 64, kernel_size=(7, 7), stride=(2, 2), padding=(3, 3), bias=False)\n",
              "  (bn1): BatchNorm2d(64, eps=1e-05, momentum=0.1, affine=True, track_running_stats=True)\n",
              "  (relu): ReLU(inplace=True)\n",
              "  (maxpool): MaxPool2d(kernel_size=3, stride=2, padding=1, dilation=1, ceil_mode=False)\n",
              "  (layer1): Sequential(\n",
              "    (0): BasicBlock(\n",
              "      (conv1): Conv2d(64, 64, kernel_size=(3, 3), stride=(1, 1), padding=(1, 1), bias=False)\n",
              "      (bn1): BatchNorm2d(64, eps=1e-05, momentum=0.1, affine=True, track_running_stats=True)\n",
              "      (relu): ReLU(inplace=True)\n",
              "      (conv2): Conv2d(64, 64, kernel_size=(3, 3), stride=(1, 1), padding=(1, 1), bias=False)\n",
              "      (bn2): BatchNorm2d(64, eps=1e-05, momentum=0.1, affine=True, track_running_stats=True)\n",
              "    )\n",
              "    (1): BasicBlock(\n",
              "      (conv1): Conv2d(64, 64, kernel_size=(3, 3), stride=(1, 1), padding=(1, 1), bias=False)\n",
              "      (bn1): BatchNorm2d(64, eps=1e-05, momentum=0.1, affine=True, track_running_stats=True)\n",
              "      (relu): ReLU(inplace=True)\n",
              "      (conv2): Conv2d(64, 64, kernel_size=(3, 3), stride=(1, 1), padding=(1, 1), bias=False)\n",
              "      (bn2): BatchNorm2d(64, eps=1e-05, momentum=0.1, affine=True, track_running_stats=True)\n",
              "    )\n",
              "  )\n",
              "  (layer2): Sequential(\n",
              "    (0): BasicBlock(\n",
              "      (conv1): Conv2d(64, 128, kernel_size=(3, 3), stride=(2, 2), padding=(1, 1), bias=False)\n",
              "      (bn1): BatchNorm2d(128, eps=1e-05, momentum=0.1, affine=True, track_running_stats=True)\n",
              "      (relu): ReLU(inplace=True)\n",
              "      (conv2): Conv2d(128, 128, kernel_size=(3, 3), stride=(1, 1), padding=(1, 1), bias=False)\n",
              "      (bn2): BatchNorm2d(128, eps=1e-05, momentum=0.1, affine=True, track_running_stats=True)\n",
              "      (downsample): Sequential(\n",
              "        (0): Conv2d(64, 128, kernel_size=(1, 1), stride=(2, 2), bias=False)\n",
              "        (1): BatchNorm2d(128, eps=1e-05, momentum=0.1, affine=True, track_running_stats=True)\n",
              "      )\n",
              "    )\n",
              "    (1): BasicBlock(\n",
              "      (conv1): Conv2d(128, 128, kernel_size=(3, 3), stride=(1, 1), padding=(1, 1), bias=False)\n",
              "      (bn1): BatchNorm2d(128, eps=1e-05, momentum=0.1, affine=True, track_running_stats=True)\n",
              "      (relu): ReLU(inplace=True)\n",
              "      (conv2): Conv2d(128, 128, kernel_size=(3, 3), stride=(1, 1), padding=(1, 1), bias=False)\n",
              "      (bn2): BatchNorm2d(128, eps=1e-05, momentum=0.1, affine=True, track_running_stats=True)\n",
              "    )\n",
              "  )\n",
              "  (layer3): Sequential(\n",
              "    (0): BasicBlock(\n",
              "      (conv1): Conv2d(128, 256, kernel_size=(3, 3), stride=(2, 2), padding=(1, 1), bias=False)\n",
              "      (bn1): BatchNorm2d(256, eps=1e-05, momentum=0.1, affine=True, track_running_stats=True)\n",
              "      (relu): ReLU(inplace=True)\n",
              "      (conv2): Conv2d(256, 256, kernel_size=(3, 3), stride=(1, 1), padding=(1, 1), bias=False)\n",
              "      (bn2): BatchNorm2d(256, eps=1e-05, momentum=0.1, affine=True, track_running_stats=True)\n",
              "      (downsample): Sequential(\n",
              "        (0): Conv2d(128, 256, kernel_size=(1, 1), stride=(2, 2), bias=False)\n",
              "        (1): BatchNorm2d(256, eps=1e-05, momentum=0.1, affine=True, track_running_stats=True)\n",
              "      )\n",
              "    )\n",
              "    (1): BasicBlock(\n",
              "      (conv1): Conv2d(256, 256, kernel_size=(3, 3), stride=(1, 1), padding=(1, 1), bias=False)\n",
              "      (bn1): BatchNorm2d(256, eps=1e-05, momentum=0.1, affine=True, track_running_stats=True)\n",
              "      (relu): ReLU(inplace=True)\n",
              "      (conv2): Conv2d(256, 256, kernel_size=(3, 3), stride=(1, 1), padding=(1, 1), bias=False)\n",
              "      (bn2): BatchNorm2d(256, eps=1e-05, momentum=0.1, affine=True, track_running_stats=True)\n",
              "    )\n",
              "  )\n",
              "  (layer4): Sequential(\n",
              "    (0): BasicBlock(\n",
              "      (conv1): Conv2d(256, 512, kernel_size=(3, 3), stride=(2, 2), padding=(1, 1), bias=False)\n",
              "      (bn1): BatchNorm2d(512, eps=1e-05, momentum=0.1, affine=True, track_running_stats=True)\n",
              "      (relu): ReLU(inplace=True)\n",
              "      (conv2): Conv2d(512, 512, kernel_size=(3, 3), stride=(1, 1), padding=(1, 1), bias=False)\n",
              "      (bn2): BatchNorm2d(512, eps=1e-05, momentum=0.1, affine=True, track_running_stats=True)\n",
              "      (downsample): Sequential(\n",
              "        (0): Conv2d(256, 512, kernel_size=(1, 1), stride=(2, 2), bias=False)\n",
              "        (1): BatchNorm2d(512, eps=1e-05, momentum=0.1, affine=True, track_running_stats=True)\n",
              "      )\n",
              "    )\n",
              "    (1): BasicBlock(\n",
              "      (conv1): Conv2d(512, 512, kernel_size=(3, 3), stride=(1, 1), padding=(1, 1), bias=False)\n",
              "      (bn1): BatchNorm2d(512, eps=1e-05, momentum=0.1, affine=True, track_running_stats=True)\n",
              "      (relu): ReLU(inplace=True)\n",
              "      (conv2): Conv2d(512, 512, kernel_size=(3, 3), stride=(1, 1), padding=(1, 1), bias=False)\n",
              "      (bn2): BatchNorm2d(512, eps=1e-05, momentum=0.1, affine=True, track_running_stats=True)\n",
              "    )\n",
              "  )\n",
              "  (avgpool): AdaptiveAvgPool2d(output_size=(1, 1))\n",
              "  (fc): Linear(in_features=512, out_features=2, bias=True)\n",
              ")"
            ]
          },
          "metadata": {},
          "execution_count": 25
        }
      ]
    },
    {
      "cell_type": "code",
      "source": [
        "def evaluate(model, val_loader):\n",
        "    model.eval()\n",
        "    val_loss = 0.0\n",
        "    correct = 0\n",
        "    total = 0\n",
        "\n",
        "    with torch.no_grad():\n",
        "        for images, labels in val_loader:\n",
        "            images, labels = images.to(device), labels.to(device)\n",
        "\n",
        "            outputs = model(images)\n",
        "            loss = criterion(outputs, labels)\n",
        "            val_loss += loss.item()\n",
        "\n",
        "            _, predicted = torch.max(outputs, 1)\n",
        "            total += labels.size(0)\n",
        "            correct += (predicted == labels).sum().item()\n",
        "\n",
        "    avg_loss = val_loss / len(val_loader)\n",
        "    accuracy = 100 * correct / total\n",
        "    return avg_loss, accuracy\n"
      ],
      "metadata": {
        "id": "OFIL-FB0K9oR"
      },
      "id": "OFIL-FB0K9oR",
      "execution_count": 5,
      "outputs": []
    },
    {
      "cell_type": "markdown",
      "source": [
        "# Step 4: Training"
      ],
      "metadata": {
        "id": "26Xzz7ZlK0BP"
      },
      "id": "26Xzz7ZlK0BP"
    },
    {
      "cell_type": "code",
      "source": [
        "num_epochs = 10\n",
        "\n",
        "for epoch in range(num_epochs):\n",
        "    model.train()\n",
        "    running_loss = 0.0\n",
        "\n",
        "    for images, labels in train_loader:\n",
        "        images, labels = images.to(device), labels.to(device)\n",
        "\n",
        "        # Forward + Backward + Optimize\n",
        "        outputs = model(images)\n",
        "        loss = criterion(outputs, labels)\n",
        "        optimizer.zero_grad()\n",
        "        loss.backward()\n",
        "        optimizer.step()\n",
        "\n",
        "        running_loss += loss.item()\n",
        "\n",
        "    # Validation step\n",
        "    val_loss, val_acc = evaluate(model, val_loader)\n",
        "\n",
        "    print(f\"Epoch [{epoch+1}/{num_epochs}]\")\n",
        "    print(f\"Train Loss: {running_loss/len(train_loader):.4f} | \"\n",
        "          f\"Val Loss: {val_loss:.4f} | Val Acc: {val_acc:.2f}%\\n\")\n"
      ],
      "metadata": {
        "colab": {
          "base_uri": "https://localhost:8080/"
        },
        "id": "-vBCw-EGKu4y",
        "outputId": "e0abecef-9b02-4b02-a6fd-f5e3949417a1"
      },
      "id": "-vBCw-EGKu4y",
      "execution_count": 9,
      "outputs": [
        {
          "output_type": "stream",
          "name": "stdout",
          "text": [
            "Epoch [1/20]\n",
            "Train Loss: 0.0151 | Val Loss: 0.1893 | Val Acc: 94.41%\n",
            "\n",
            "Epoch [2/20]\n",
            "Train Loss: 0.0456 | Val Loss: 0.2296 | Val Acc: 93.17%\n",
            "\n",
            "Epoch [3/20]\n",
            "Train Loss: 0.0145 | Val Loss: 0.2399 | Val Acc: 90.68%\n",
            "\n",
            "Epoch [4/20]\n",
            "Train Loss: 0.0201 | Val Loss: 0.1860 | Val Acc: 91.30%\n",
            "\n",
            "Epoch [5/20]\n",
            "Train Loss: 0.0290 | Val Loss: 0.2033 | Val Acc: 92.55%\n",
            "\n",
            "Epoch [6/20]\n",
            "Train Loss: 0.0125 | Val Loss: 0.2014 | Val Acc: 93.17%\n",
            "\n",
            "Epoch [7/20]\n",
            "Train Loss: 0.0606 | Val Loss: 0.2856 | Val Acc: 89.44%\n",
            "\n",
            "Epoch [8/20]\n",
            "Train Loss: 0.0465 | Val Loss: 0.2440 | Val Acc: 91.93%\n",
            "\n",
            "Epoch [9/20]\n",
            "Train Loss: 0.0156 | Val Loss: 0.2658 | Val Acc: 91.93%\n",
            "\n",
            "Epoch [10/20]\n",
            "Train Loss: 0.0232 | Val Loss: 0.2131 | Val Acc: 92.55%\n",
            "\n",
            "Epoch [11/20]\n",
            "Train Loss: 0.0288 | Val Loss: 0.3006 | Val Acc: 91.93%\n",
            "\n",
            "Epoch [12/20]\n",
            "Train Loss: 0.0101 | Val Loss: 0.1740 | Val Acc: 93.79%\n",
            "\n",
            "Epoch [13/20]\n",
            "Train Loss: 0.1200 | Val Loss: 0.4225 | Val Acc: 92.55%\n",
            "\n",
            "Epoch [14/20]\n",
            "Train Loss: 0.0253 | Val Loss: 0.2719 | Val Acc: 92.55%\n",
            "\n",
            "Epoch [15/20]\n",
            "Train Loss: 0.0099 | Val Loss: 0.2693 | Val Acc: 92.55%\n",
            "\n",
            "Epoch [16/20]\n",
            "Train Loss: 0.0044 | Val Loss: 0.2605 | Val Acc: 94.41%\n",
            "\n",
            "Epoch [17/20]\n",
            "Train Loss: 0.0480 | Val Loss: 0.3406 | Val Acc: 91.30%\n",
            "\n",
            "Epoch [18/20]\n",
            "Train Loss: 0.0106 | Val Loss: 0.2167 | Val Acc: 94.41%\n",
            "\n",
            "Epoch [19/20]\n",
            "Train Loss: 0.0346 | Val Loss: 0.2390 | Val Acc: 93.79%\n",
            "\n",
            "Epoch [20/20]\n",
            "Train Loss: 0.0611 | Val Loss: 0.4601 | Val Acc: 90.06%\n",
            "\n"
          ]
        }
      ]
    },
    {
      "cell_type": "markdown",
      "source": [
        "# Step 6: Evaluate the Model on Test Data"
      ],
      "metadata": {
        "id": "4YissutfLFYD"
      },
      "id": "4YissutfLFYD"
    },
    {
      "cell_type": "code",
      "source": [
        "def generate_classification_report(model, dataloader, class_names, device, name=\"\"):\n",
        "    model.eval()\n",
        "    preds_list = []\n",
        "    labels_list = []\n",
        "\n",
        "    with torch.no_grad():\n",
        "        for batch in dataloader:\n",
        "            if isinstance(batch, (list, tuple)):\n",
        "                images, labels = batch\n",
        "            else:\n",
        "                images = batch\n",
        "                labels = None  # Just in case, unlikely in this use case\n",
        "\n",
        "            images = images.to(device)\n",
        "            labels = labels.to(device)\n",
        "\n",
        "            outputs = model(images)\n",
        "            _, preds = torch.max(outputs, 1)\n",
        "\n",
        "            preds_list.extend(preds.cpu().tolist())\n",
        "            labels_list.extend(labels.cpu().tolist())\n",
        "\n",
        "    print(f\"\\n📊 Classification Report - {name} Set\\n\")\n",
        "    print(classification_report(labels_list, preds_list, target_names=class_names))\n"
      ],
      "metadata": {
        "id": "KicKYLPoOgm5"
      },
      "id": "KicKYLPoOgm5",
      "execution_count": 20,
      "outputs": []
    },
    {
      "cell_type": "code",
      "source": [
        "class_names = train_ds.classes\n",
        "generate_classification_report(model, test_loader, class_names, device, name=\"Test\")"
      ],
      "metadata": {
        "id": "8tcc4WJ-Oij2",
        "outputId": "6e826218-fd4f-4f24-bfeb-78356ef5f11d",
        "colab": {
          "base_uri": "https://localhost:8080/"
        }
      },
      "id": "8tcc4WJ-Oij2",
      "execution_count": 22,
      "outputs": [
        {
          "output_type": "stream",
          "name": "stdout",
          "text": [
            "\n",
            "📊 Classification Report - Test Set\n",
            "\n",
            "              precision    recall  f1-score   support\n",
            "\n",
            "     chicken       0.99      0.83      0.90       172\n",
            "        duck       0.91      0.99      0.95       310\n",
            "\n",
            "    accuracy                           0.93       482\n",
            "   macro avg       0.95      0.91      0.92       482\n",
            "weighted avg       0.94      0.93      0.93       482\n",
            "\n"
          ]
        }
      ]
    },
    {
      "cell_type": "code",
      "source": [
        "generate_classification_report(model, val_loader, class_names, device, name=\"Validation\")"
      ],
      "metadata": {
        "id": "21jSlyZAN0sl",
        "outputId": "d2cb074b-0038-4872-9392-4715a9c7edd0",
        "colab": {
          "base_uri": "https://localhost:8080/"
        }
      },
      "id": "21jSlyZAN0sl",
      "execution_count": 23,
      "outputs": [
        {
          "output_type": "stream",
          "name": "stdout",
          "text": [
            "\n",
            "📊 Classification Report - Validation Set\n",
            "\n",
            "              precision    recall  f1-score   support\n",
            "\n",
            "     chicken       0.95      0.73      0.83        52\n",
            "        duck       0.88      0.98      0.93       109\n",
            "\n",
            "    accuracy                           0.90       161\n",
            "   macro avg       0.92      0.86      0.88       161\n",
            "weighted avg       0.91      0.90      0.90       161\n",
            "\n"
          ]
        }
      ]
    },
    {
      "cell_type": "code",
      "source": [
        "generate_classification_report(model, train_loader, class_names, device, name=\"Train\")"
      ],
      "metadata": {
        "id": "XqBS2e7TPlZx",
        "outputId": "2c641e20-afff-4f91-9bb3-32390f26800b",
        "colab": {
          "base_uri": "https://localhost:8080/"
        }
      },
      "id": "XqBS2e7TPlZx",
      "execution_count": 24,
      "outputs": [
        {
          "output_type": "stream",
          "name": "stdout",
          "text": [
            "\n",
            "📊 Classification Report - Train Set\n",
            "\n",
            "              precision    recall  f1-score   support\n",
            "\n",
            "     chicken       0.99      1.00      0.99       275\n",
            "        duck       1.00      0.99      1.00       622\n",
            "\n",
            "    accuracy                           1.00       897\n",
            "   macro avg       0.99      1.00      0.99       897\n",
            "weighted avg       1.00      1.00      1.00       897\n",
            "\n"
          ]
        }
      ]
    },
    {
      "cell_type": "code",
      "source": [],
      "metadata": {
        "id": "1FlLWF4xPlvb"
      },
      "id": "1FlLWF4xPlvb",
      "execution_count": null,
      "outputs": []
    }
  ],
  "metadata": {
    "language_info": {
      "name": "python"
    },
    "colab": {
      "provenance": [],
      "gpuType": "T4"
    },
    "kernelspec": {
      "name": "python3",
      "display_name": "Python 3"
    },
    "accelerator": "GPU"
  },
  "nbformat": 4,
  "nbformat_minor": 5
}