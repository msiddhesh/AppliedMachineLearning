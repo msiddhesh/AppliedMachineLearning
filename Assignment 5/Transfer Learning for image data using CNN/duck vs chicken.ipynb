{
  "cells": [
    {
      "cell_type": "markdown",
      "source": [
        "#### Importing and organizing data"
      ],
      "metadata": {
        "id": "-HjMBVSCKKDW"
      },
      "id": "-HjMBVSCKKDW"
    },
    {
      "cell_type": "code",
      "source": [
        "import kagglehub\n",
        "import shutil\n",
        "import os\n",
        "\n",
        "# Download the dataset (cached path)\n",
        "cached_path = kagglehub.dataset_download(\"roudranildas/chicken-images-classification-dataset\")\n",
        "\n",
        "# Define target path (working directory)\n",
        "target_path = \"/content/\"\n",
        "\n",
        "# Copy from cache to working directory\n",
        "shutil.copytree(cached_path, target_path, dirs_exist_ok=True)\n",
        "\n",
        "# New structure path\n",
        "base_dir = \"/content/organized-data\"\n",
        "splits = ['train', 'val', 'test']\n",
        "classes = ['chicken', 'duck']\n",
        "\n",
        "# Create new folders\n",
        "for split in splits:\n",
        "\n",
        "    for cls in classes:\n",
        "        os.makedirs(os.path.join(base_dir, split, cls), exist_ok=True)\n",
        "\n",
        "# Copy files\n",
        "for cls in classes:\n",
        "    src_root = f\"/content/data/{cls}-images/data\"\n",
        "    for split in splits:\n",
        "        src = os.path.join(src_root, split)\n",
        "        dst = os.path.join(base_dir, split, cls)\n",
        "        for file in os.listdir(src):\n",
        "            shutil.copy(os.path.join(src, file), dst)\n"
      ],
      "metadata": {
        "id": "4nnbufEsJfRO",
        "outputId": "cb476540-429c-40fd-eb57-f9409953cc07",
        "colab": {
          "base_uri": "https://localhost:8080/"
        }
      },
      "id": "4nnbufEsJfRO",
      "execution_count": 1,
      "outputs": [
        {
          "output_type": "stream",
          "name": "stdout",
          "text": [
            "Downloading from https://www.kaggle.com/api/v1/datasets/download/roudranildas/chicken-images-classification-dataset?dataset_version_number=3...\n"
          ]
        },
        {
          "output_type": "stream",
          "name": "stderr",
          "text": [
            "100%|██████████| 43.0M/43.0M [00:00<00:00, 186MB/s]"
          ]
        },
        {
          "output_type": "stream",
          "name": "stdout",
          "text": [
            "Extracting files...\n"
          ]
        },
        {
          "output_type": "stream",
          "name": "stderr",
          "text": [
            "\n"
          ]
        }
      ]
    },
    {
      "cell_type": "markdown",
      "source": [
        "# Step 1:  Import necessary libraries"
      ],
      "metadata": {
        "id": "ej2ezz9RIID0"
      },
      "id": "ej2ezz9RIID0"
    },
    {
      "cell_type": "code",
      "source": [
        "# Step 1: Setup\n",
        "import torch\n",
        "import torch.nn as nn\n",
        "from torchvision import datasets, transforms, models\n",
        "from torch.utils.data import DataLoader\n",
        "from sklearn.metrics import classification_report\n",
        "import matplotlib.pyplot as plt\n",
        "import numpy as np\n",
        "import os\n",
        "\n",
        "device = torch.device(\"cuda\" if torch.cuda.is_available() else \"cpu\")\n",
        "print(device)"
      ],
      "metadata": {
        "id": "5sieY2jUE-M5"
      },
      "id": "5sieY2jUE-M5",
      "execution_count": 2,
      "outputs": []
    },
    {
      "cell_type": "markdown",
      "source": [
        "# Step 2: Load dataset"
      ],
      "metadata": {
        "id": "lqDK7s_YKcxC"
      },
      "id": "lqDK7s_YKcxC"
    },
    {
      "cell_type": "code",
      "source": [
        "from torchvision import datasets, transforms\n",
        "\n",
        "transform = transforms.Compose([\n",
        "    transforms.Resize((224, 224)),\n",
        "    transforms.ToTensor()\n",
        "])\n",
        "\n",
        "base_dir = \"/content/organized-data\"\n",
        "\n",
        "train_ds = datasets.ImageFolder(root=os.path.join(base_dir, 'train'), transform=transform)\n",
        "val_ds = datasets.ImageFolder(root=os.path.join(base_dir, 'val'), transform=transform)\n",
        "test_ds = datasets.ImageFolder(root=os.path.join(base_dir, 'test'), transform=transform)\n",
        "\n",
        "train_loader = DataLoader(train_ds, batch_size=16, shuffle=True)\n",
        "val_loader = DataLoader(val_ds, batch_size=16, shuffle=False)\n",
        "test_loader = DataLoader(test_ds, batch_size=16, shuffle=False)\n",
        "\n",
        "print(\"Classes:\", train_ds.classes)"
      ],
      "metadata": {
        "id": "xUvziCKcIGXL",
        "outputId": "2041f828-d4c9-447c-d30a-b3e3aebb79c8",
        "colab": {
          "base_uri": "https://localhost:8080/"
        }
      },
      "id": "xUvziCKcIGXL",
      "execution_count": 3,
      "outputs": [
        {
          "output_type": "stream",
          "name": "stdout",
          "text": [
            "Classes: ['chicken', 'duck']\n"
          ]
        }
      ]
    },
    {
      "cell_type": "markdown",
      "source": [
        "# Step 3: Load pre-trained model"
      ],
      "metadata": {
        "id": "NsEXGyAFKXpN"
      },
      "id": "NsEXGyAFKXpN"
    },
    {
      "cell_type": "code",
      "source": [
        "model = models.resnet18(pretrained=True)\n",
        "num_ftrs = model.fc.in_features\n",
        "model.fc = nn.Linear(num_ftrs, 2)  # Chicken vs Duck\n",
        "model = model.to(device)\n",
        "\n",
        "# Loss and optimizer\n",
        "criterion = nn.CrossEntropyLoss()\n",
        "optimizer = torch.optim.Adam(model.parameters(), lr=0.0001)"
      ],
      "metadata": {
        "id": "IrX5aqyWKCmh",
        "outputId": "14cd21f2-2e74-45af-b650-5903d56f2cac",
        "colab": {
          "base_uri": "https://localhost:8080/"
        }
      },
      "id": "IrX5aqyWKCmh",
      "execution_count": 4,
      "outputs": [
        {
          "output_type": "stream",
          "name": "stderr",
          "text": [
            "/usr/local/lib/python3.11/dist-packages/torchvision/models/_utils.py:208: UserWarning: The parameter 'pretrained' is deprecated since 0.13 and may be removed in the future, please use 'weights' instead.\n",
            "  warnings.warn(\n",
            "/usr/local/lib/python3.11/dist-packages/torchvision/models/_utils.py:223: UserWarning: Arguments other than a weight enum or `None` for 'weights' are deprecated since 0.13 and may be removed in the future. The current behavior is equivalent to passing `weights=ResNet18_Weights.IMAGENET1K_V1`. You can also use `weights=ResNet18_Weights.DEFAULT` to get the most up-to-date weights.\n",
            "  warnings.warn(msg)\n",
            "Downloading: \"https://download.pytorch.org/models/resnet18-f37072fd.pth\" to /root/.cache/torch/hub/checkpoints/resnet18-f37072fd.pth\n",
            "100%|██████████| 44.7M/44.7M [00:00<00:00, 177MB/s]\n"
          ]
        }
      ]
    },
    {
      "cell_type": "code",
      "source": [
        "def evaluate(model, val_loader):\n",
        "    model.eval()\n",
        "    val_loss = 0.0\n",
        "    correct = 0\n",
        "    total = 0\n",
        "\n",
        "    with torch.no_grad():\n",
        "        for images, labels in val_loader:\n",
        "            images, labels = images.to(device), labels.to(device)\n",
        "\n",
        "            outputs = model(images)\n",
        "            loss = criterion(outputs, labels)\n",
        "            val_loss += loss.item()\n",
        "\n",
        "            _, predicted = torch.max(outputs, 1)\n",
        "            total += labels.size(0)\n",
        "            correct += (predicted == labels).sum().item()\n",
        "\n",
        "    avg_loss = val_loss / len(val_loader)\n",
        "    accuracy = 100 * correct / total\n",
        "    return avg_loss, accuracy\n"
      ],
      "metadata": {
        "id": "OFIL-FB0K9oR"
      },
      "id": "OFIL-FB0K9oR",
      "execution_count": 5,
      "outputs": []
    },
    {
      "cell_type": "markdown",
      "source": [
        "# Step 4: Training"
      ],
      "metadata": {
        "id": "26Xzz7ZlK0BP"
      },
      "id": "26Xzz7ZlK0BP"
    },
    {
      "cell_type": "code",
      "source": [
        "num_epochs = 1\n",
        "\n",
        "for epoch in range(num_epochs):\n",
        "    model.train()\n",
        "    running_loss = 0.0\n",
        "\n",
        "    for images, labels in train_loader:\n",
        "        images, labels = images.to(device), labels.to(device)\n",
        "\n",
        "        # Forward + Backward + Optimize\n",
        "        outputs = model(images)\n",
        "        loss = criterion(outputs, labels)\n",
        "        optimizer.zero_grad()\n",
        "        loss.backward()\n",
        "        optimizer.step()\n",
        "\n",
        "        running_loss += loss.item()\n",
        "\n",
        "    # Validation step\n",
        "    val_loss, val_acc = evaluate(model, val_loader)\n",
        "\n",
        "    print(f\"Epoch [{epoch+1}/{num_epochs}]\")\n",
        "    print(f\"Train Loss: {running_loss/len(train_loader):.4f} | \"\n",
        "          f\"Val Loss: {val_loss:.4f} | Val Acc: {val_acc:.2f}%\\n\")\n"
      ],
      "metadata": {
        "id": "-vBCw-EGKu4y"
      },
      "id": "-vBCw-EGKu4y",
      "execution_count": null,
      "outputs": []
    },
    {
      "cell_type": "markdown",
      "source": [
        "# Step 6: Evaluate the Model on Test Data"
      ],
      "metadata": {
        "id": "4YissutfLFYD"
      },
      "id": "4YissutfLFYD"
    },
    {
      "cell_type": "code",
      "source": [
        "from sklearn.metrics import classification_report\n",
        "\n",
        "model.eval()\n",
        "all_preds = []\n",
        "all_labels = []\n",
        "\n",
        "with torch.no_grad():\n",
        "    for images, labels in test_loader:\n",
        "        images = images.to(device)\n",
        "        outputs = model(images)\n",
        "        _, preds = torch.max(outputs, 1)\n",
        "\n",
        "        all_preds.extend(preds.cpu().numpy())\n",
        "        all_labels.extend(labels.numpy())\n",
        "\n",
        "print(\"Classification Report:\\n\")\n",
        "print(classification_report(all_labels, all_preds, target_names=train_ds.classes))"
      ],
      "metadata": {
        "id": "yBZcHluwK1Zg"
      },
      "id": "yBZcHluwK1Zg",
      "execution_count": null,
      "outputs": []
    }
  ],
  "metadata": {
    "language_info": {
      "name": "python"
    },
    "colab": {
      "provenance": [],
      "gpuType": "T4"
    },
    "kernelspec": {
      "name": "python3",
      "display_name": "Python 3"
    },
    "accelerator": "GPU"
  },
  "nbformat": 4,
  "nbformat_minor": 5
}