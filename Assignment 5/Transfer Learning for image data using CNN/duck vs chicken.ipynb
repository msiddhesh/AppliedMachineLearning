{
  "cells": [
    {
      "cell_type": "markdown",
      "source": [
        "#### Importing and organizing data"
      ],
      "metadata": {
        "id": "-HjMBVSCKKDW"
      },
      "id": "-HjMBVSCKKDW"
    },
    {
      "cell_type": "code",
      "source": [
        "import kagglehub\n",
        "import shutil\n",
        "import os\n",
        "\n",
        "# Download the dataset (cached path)\n",
        "cached_path = kagglehub.dataset_download(\"roudranildas/chicken-images-classification-dataset\")\n",
        "\n",
        "# Define target path (working directory)\n",
        "target_path = \"/content/\"\n",
        "\n",
        "# Copy from cache to working directory\n",
        "shutil.copytree(cached_path, target_path, dirs_exist_ok=True)\n",
        "\n",
        "# New structure path\n",
        "base_dir = \"/content/organized-data\"\n",
        "splits = ['train', 'val', 'test']\n",
        "classes = ['chicken', 'duck']\n",
        "\n",
        "# Create new folders\n",
        "for split in splits:\n",
        "\n",
        "    for cls in classes:\n",
        "        os.makedirs(os.path.join(base_dir, split, cls), exist_ok=True)\n",
        "\n",
        "# Copy files\n",
        "for cls in classes:\n",
        "    src_root = f\"/content/data/{cls}-images/data\"\n",
        "    for split in splits:\n",
        "        src = os.path.join(src_root, split)\n",
        "        dst = os.path.join(base_dir, split, cls)\n",
        "        for file in os.listdir(src):\n",
        "            shutil.copy(os.path.join(src, file), dst)\n"
      ],
      "metadata": {
        "colab": {
          "base_uri": "https://localhost:8080/"
        },
        "id": "4nnbufEsJfRO",
        "outputId": "6033cd7f-73e6-4115-fd7f-dbe842a115d4"
      },
      "id": "4nnbufEsJfRO",
      "execution_count": 1,
      "outputs": [
        {
          "output_type": "stream",
          "name": "stdout",
          "text": [
            "Downloading from https://www.kaggle.com/api/v1/datasets/download/roudranildas/chicken-images-classification-dataset?dataset_version_number=3...\n"
          ]
        },
        {
          "output_type": "stream",
          "name": "stderr",
          "text": [
            "100%|██████████| 43.0M/43.0M [00:02<00:00, 15.3MB/s]"
          ]
        },
        {
          "output_type": "stream",
          "name": "stdout",
          "text": [
            "Extracting files...\n"
          ]
        },
        {
          "output_type": "stream",
          "name": "stderr",
          "text": [
            "\n"
          ]
        }
      ]
    },
    {
      "cell_type": "markdown",
      "source": [
        "# Step 1:  Import necessary libraries"
      ],
      "metadata": {
        "id": "ej2ezz9RIID0"
      },
      "id": "ej2ezz9RIID0"
    },
    {
      "cell_type": "code",
      "source": [
        "# Step 1: Setup\n",
        "import torch\n",
        "import torch.nn as nn\n",
        "from torchvision import datasets, transforms, models\n",
        "from torch.utils.data import DataLoader\n",
        "from sklearn.metrics import classification_report\n",
        "import matplotlib.pyplot as plt\n",
        "import numpy as np\n",
        "import os\n",
        "\n",
        "device = torch.device(\"cuda\" if torch.cuda.is_available() else \"cpu\")\n",
        "print(device)"
      ],
      "metadata": {
        "colab": {
          "base_uri": "https://localhost:8080/"
        },
        "id": "5sieY2jUE-M5",
        "outputId": "b202af2d-902a-4b11-8cfd-cc245f77d7cc"
      },
      "id": "5sieY2jUE-M5",
      "execution_count": 2,
      "outputs": [
        {
          "output_type": "stream",
          "name": "stdout",
          "text": [
            "cuda\n"
          ]
        }
      ]
    },
    {
      "cell_type": "markdown",
      "source": [
        "# Step 2: Load dataset"
      ],
      "metadata": {
        "id": "lqDK7s_YKcxC"
      },
      "id": "lqDK7s_YKcxC"
    },
    {
      "cell_type": "code",
      "source": [
        "from torchvision import datasets, transforms\n",
        "\n",
        "transform = transforms.Compose([\n",
        "    transforms.Resize((224, 224)),\n",
        "    transforms.ToTensor()\n",
        "])\n",
        "\n",
        "base_dir = \"/content/organized-data\"\n",
        "\n",
        "train_ds = datasets.ImageFolder(root=os.path.join(base_dir, 'train'), transform=transform)\n",
        "val_ds = datasets.ImageFolder(root=os.path.join(base_dir, 'val'), transform=transform)\n",
        "test_ds = datasets.ImageFolder(root=os.path.join(base_dir, 'test'), transform=transform)\n",
        "\n",
        "train_loader = DataLoader(train_ds, batch_size=16, shuffle=True)\n",
        "val_loader = DataLoader(val_ds, batch_size=16, shuffle=False)\n",
        "test_loader = DataLoader(test_ds, batch_size=16, shuffle=False)\n",
        "\n",
        "print(\"Classes:\", train_ds.classes)"
      ],
      "metadata": {
        "colab": {
          "base_uri": "https://localhost:8080/"
        },
        "id": "xUvziCKcIGXL",
        "outputId": "35843ff1-5767-42ab-eab0-e968abfe045f"
      },
      "id": "xUvziCKcIGXL",
      "execution_count": 3,
      "outputs": [
        {
          "output_type": "stream",
          "name": "stdout",
          "text": [
            "Classes: ['chicken', 'duck']\n"
          ]
        }
      ]
    },
    {
      "cell_type": "markdown",
      "source": [
        "# Step 3: Load pre-trained model"
      ],
      "metadata": {
        "id": "NsEXGyAFKXpN"
      },
      "id": "NsEXGyAFKXpN"
    },
    {
      "cell_type": "code",
      "source": [
        "model = models.resnet18(pretrained=True)\n",
        "\n",
        "num_ftrs = model.fc.in_features\n",
        "model.fc = nn.Linear(num_ftrs, 2)  # Chicken vs Duck\n",
        "for param in model.parameters():\n",
        "    param.requires_grad = False  # freeze all layers\n",
        "\n",
        "# Unfreeze the final classification layer\n",
        "for param in model.fc.parameters():\n",
        "    param.requires_grad = True\n",
        "\n",
        "model = model.to(device)\n",
        "\n",
        "# Loss and optimizer\n",
        "criterion = nn.CrossEntropyLoss()\n",
        "optimizer = torch.optim.Adam(model.parameters(), lr=0.0001)"
      ],
      "metadata": {
        "colab": {
          "base_uri": "https://localhost:8080/"
        },
        "id": "IrX5aqyWKCmh",
        "outputId": "dfcbe469-0e75-47e1-8b9b-54d67515a667"
      },
      "id": "IrX5aqyWKCmh",
      "execution_count": 4,
      "outputs": [
        {
          "output_type": "stream",
          "name": "stderr",
          "text": [
            "/usr/local/lib/python3.11/dist-packages/torchvision/models/_utils.py:208: UserWarning: The parameter 'pretrained' is deprecated since 0.13 and may be removed in the future, please use 'weights' instead.\n",
            "  warnings.warn(\n",
            "/usr/local/lib/python3.11/dist-packages/torchvision/models/_utils.py:223: UserWarning: Arguments other than a weight enum or `None` for 'weights' are deprecated since 0.13 and may be removed in the future. The current behavior is equivalent to passing `weights=ResNet18_Weights.IMAGENET1K_V1`. You can also use `weights=ResNet18_Weights.DEFAULT` to get the most up-to-date weights.\n",
            "  warnings.warn(msg)\n",
            "Downloading: \"https://download.pytorch.org/models/resnet18-f37072fd.pth\" to /root/.cache/torch/hub/checkpoints/resnet18-f37072fd.pth\n",
            "100%|██████████| 44.7M/44.7M [00:00<00:00, 114MB/s]\n"
          ]
        }
      ]
    },
    {
      "cell_type": "code",
      "source": [
        "model"
      ],
      "metadata": {
        "colab": {
          "base_uri": "https://localhost:8080/"
        },
        "id": "vpNj6VdFQFK1",
        "outputId": "77101e65-a016-41c4-c834-4fd85999cd0e"
      },
      "id": "vpNj6VdFQFK1",
      "execution_count": 5,
      "outputs": [
        {
          "output_type": "execute_result",
          "data": {
            "text/plain": [
              "ResNet(\n",
              "  (conv1): Conv2d(3, 64, kernel_size=(7, 7), stride=(2, 2), padding=(3, 3), bias=False)\n",
              "  (bn1): BatchNorm2d(64, eps=1e-05, momentum=0.1, affine=True, track_running_stats=True)\n",
              "  (relu): ReLU(inplace=True)\n",
              "  (maxpool): MaxPool2d(kernel_size=3, stride=2, padding=1, dilation=1, ceil_mode=False)\n",
              "  (layer1): Sequential(\n",
              "    (0): BasicBlock(\n",
              "      (conv1): Conv2d(64, 64, kernel_size=(3, 3), stride=(1, 1), padding=(1, 1), bias=False)\n",
              "      (bn1): BatchNorm2d(64, eps=1e-05, momentum=0.1, affine=True, track_running_stats=True)\n",
              "      (relu): ReLU(inplace=True)\n",
              "      (conv2): Conv2d(64, 64, kernel_size=(3, 3), stride=(1, 1), padding=(1, 1), bias=False)\n",
              "      (bn2): BatchNorm2d(64, eps=1e-05, momentum=0.1, affine=True, track_running_stats=True)\n",
              "    )\n",
              "    (1): BasicBlock(\n",
              "      (conv1): Conv2d(64, 64, kernel_size=(3, 3), stride=(1, 1), padding=(1, 1), bias=False)\n",
              "      (bn1): BatchNorm2d(64, eps=1e-05, momentum=0.1, affine=True, track_running_stats=True)\n",
              "      (relu): ReLU(inplace=True)\n",
              "      (conv2): Conv2d(64, 64, kernel_size=(3, 3), stride=(1, 1), padding=(1, 1), bias=False)\n",
              "      (bn2): BatchNorm2d(64, eps=1e-05, momentum=0.1, affine=True, track_running_stats=True)\n",
              "    )\n",
              "  )\n",
              "  (layer2): Sequential(\n",
              "    (0): BasicBlock(\n",
              "      (conv1): Conv2d(64, 128, kernel_size=(3, 3), stride=(2, 2), padding=(1, 1), bias=False)\n",
              "      (bn1): BatchNorm2d(128, eps=1e-05, momentum=0.1, affine=True, track_running_stats=True)\n",
              "      (relu): ReLU(inplace=True)\n",
              "      (conv2): Conv2d(128, 128, kernel_size=(3, 3), stride=(1, 1), padding=(1, 1), bias=False)\n",
              "      (bn2): BatchNorm2d(128, eps=1e-05, momentum=0.1, affine=True, track_running_stats=True)\n",
              "      (downsample): Sequential(\n",
              "        (0): Conv2d(64, 128, kernel_size=(1, 1), stride=(2, 2), bias=False)\n",
              "        (1): BatchNorm2d(128, eps=1e-05, momentum=0.1, affine=True, track_running_stats=True)\n",
              "      )\n",
              "    )\n",
              "    (1): BasicBlock(\n",
              "      (conv1): Conv2d(128, 128, kernel_size=(3, 3), stride=(1, 1), padding=(1, 1), bias=False)\n",
              "      (bn1): BatchNorm2d(128, eps=1e-05, momentum=0.1, affine=True, track_running_stats=True)\n",
              "      (relu): ReLU(inplace=True)\n",
              "      (conv2): Conv2d(128, 128, kernel_size=(3, 3), stride=(1, 1), padding=(1, 1), bias=False)\n",
              "      (bn2): BatchNorm2d(128, eps=1e-05, momentum=0.1, affine=True, track_running_stats=True)\n",
              "    )\n",
              "  )\n",
              "  (layer3): Sequential(\n",
              "    (0): BasicBlock(\n",
              "      (conv1): Conv2d(128, 256, kernel_size=(3, 3), stride=(2, 2), padding=(1, 1), bias=False)\n",
              "      (bn1): BatchNorm2d(256, eps=1e-05, momentum=0.1, affine=True, track_running_stats=True)\n",
              "      (relu): ReLU(inplace=True)\n",
              "      (conv2): Conv2d(256, 256, kernel_size=(3, 3), stride=(1, 1), padding=(1, 1), bias=False)\n",
              "      (bn2): BatchNorm2d(256, eps=1e-05, momentum=0.1, affine=True, track_running_stats=True)\n",
              "      (downsample): Sequential(\n",
              "        (0): Conv2d(128, 256, kernel_size=(1, 1), stride=(2, 2), bias=False)\n",
              "        (1): BatchNorm2d(256, eps=1e-05, momentum=0.1, affine=True, track_running_stats=True)\n",
              "      )\n",
              "    )\n",
              "    (1): BasicBlock(\n",
              "      (conv1): Conv2d(256, 256, kernel_size=(3, 3), stride=(1, 1), padding=(1, 1), bias=False)\n",
              "      (bn1): BatchNorm2d(256, eps=1e-05, momentum=0.1, affine=True, track_running_stats=True)\n",
              "      (relu): ReLU(inplace=True)\n",
              "      (conv2): Conv2d(256, 256, kernel_size=(3, 3), stride=(1, 1), padding=(1, 1), bias=False)\n",
              "      (bn2): BatchNorm2d(256, eps=1e-05, momentum=0.1, affine=True, track_running_stats=True)\n",
              "    )\n",
              "  )\n",
              "  (layer4): Sequential(\n",
              "    (0): BasicBlock(\n",
              "      (conv1): Conv2d(256, 512, kernel_size=(3, 3), stride=(2, 2), padding=(1, 1), bias=False)\n",
              "      (bn1): BatchNorm2d(512, eps=1e-05, momentum=0.1, affine=True, track_running_stats=True)\n",
              "      (relu): ReLU(inplace=True)\n",
              "      (conv2): Conv2d(512, 512, kernel_size=(3, 3), stride=(1, 1), padding=(1, 1), bias=False)\n",
              "      (bn2): BatchNorm2d(512, eps=1e-05, momentum=0.1, affine=True, track_running_stats=True)\n",
              "      (downsample): Sequential(\n",
              "        (0): Conv2d(256, 512, kernel_size=(1, 1), stride=(2, 2), bias=False)\n",
              "        (1): BatchNorm2d(512, eps=1e-05, momentum=0.1, affine=True, track_running_stats=True)\n",
              "      )\n",
              "    )\n",
              "    (1): BasicBlock(\n",
              "      (conv1): Conv2d(512, 512, kernel_size=(3, 3), stride=(1, 1), padding=(1, 1), bias=False)\n",
              "      (bn1): BatchNorm2d(512, eps=1e-05, momentum=0.1, affine=True, track_running_stats=True)\n",
              "      (relu): ReLU(inplace=True)\n",
              "      (conv2): Conv2d(512, 512, kernel_size=(3, 3), stride=(1, 1), padding=(1, 1), bias=False)\n",
              "      (bn2): BatchNorm2d(512, eps=1e-05, momentum=0.1, affine=True, track_running_stats=True)\n",
              "    )\n",
              "  )\n",
              "  (avgpool): AdaptiveAvgPool2d(output_size=(1, 1))\n",
              "  (fc): Linear(in_features=512, out_features=2, bias=True)\n",
              ")"
            ]
          },
          "metadata": {},
          "execution_count": 5
        }
      ]
    },
    {
      "cell_type": "code",
      "source": [
        "def evaluate(model, val_loader):\n",
        "    model.eval()\n",
        "    val_loss = 0.0\n",
        "    correct = 0\n",
        "    total = 0\n",
        "\n",
        "    with torch.no_grad():\n",
        "        for images, labels in val_loader:\n",
        "            images, labels = images.to(device), labels.to(device)\n",
        "\n",
        "            outputs = model(images)\n",
        "            loss = criterion(outputs, labels)\n",
        "            val_loss += loss.item()\n",
        "\n",
        "            _, predicted = torch.max(outputs, 1)\n",
        "            total += labels.size(0)\n",
        "            correct += (predicted == labels).sum().item()\n",
        "\n",
        "    avg_loss = val_loss / len(val_loader)\n",
        "    accuracy = 100 * correct / total\n",
        "    return avg_loss, accuracy\n"
      ],
      "metadata": {
        "id": "OFIL-FB0K9oR"
      },
      "id": "OFIL-FB0K9oR",
      "execution_count": 6,
      "outputs": []
    },
    {
      "cell_type": "markdown",
      "source": [
        "# Step 4: Training"
      ],
      "metadata": {
        "id": "26Xzz7ZlK0BP"
      },
      "id": "26Xzz7ZlK0BP"
    },
    {
      "cell_type": "code",
      "source": [
        "# num_epochs = 50\n",
        "\n",
        "# for epoch in range(num_epochs):\n",
        "#     model.train()\n",
        "#     running_loss = 0.0\n",
        "\n",
        "#     for images, labels in train_loader:\n",
        "#         images, labels = images.to(device), labels.to(device)\n",
        "\n",
        "#         # Forward + Backward + Optimize\n",
        "#         outputs = model(images)\n",
        "#         loss = criterion(outputs, labels)\n",
        "#         optimizer.zero_grad()\n",
        "#         loss.backward()\n",
        "#         optimizer.step()\n",
        "\n",
        "#         running_loss += loss.item()\n",
        "\n",
        "#     # Validation step\n",
        "#     val_loss, val_acc = evaluate(model, val_loader)\n",
        "\n",
        "#     print(f\"Epoch [{epoch+1}/{num_epochs}]\")\n",
        "#     print(f\"Train Loss: {running_loss/len(train_loader):.4f} | \"\n",
        "#           f\"Val Loss: {val_loss:.4f} | Val Acc: {val_acc:.2f}%\\n\")\n"
      ],
      "metadata": {
        "id": "-vBCw-EGKu4y"
      },
      "id": "-vBCw-EGKu4y",
      "execution_count": 7,
      "outputs": []
    },
    {
      "cell_type": "code",
      "source": [
        "train_losses = []\n",
        "val_losses = []\n",
        "\n",
        "num_epochs = 50\n",
        "\n",
        "for epoch in range(num_epochs):\n",
        "    model.train()\n",
        "    running_loss = 0.0\n",
        "\n",
        "    for images, labels in train_loader:\n",
        "        images, labels = images.to(device), labels.to(device)\n",
        "\n",
        "        outputs = model(images)\n",
        "        loss = criterion(outputs, labels)\n",
        "\n",
        "        optimizer.zero_grad()\n",
        "        loss.backward()\n",
        "        optimizer.step()\n",
        "\n",
        "        running_loss += loss.item()\n",
        "\n",
        "    avg_train_loss = running_loss / len(train_loader)\n",
        "    val_loss, val_acc = evaluate(model, val_loader)\n",
        "\n",
        "    # Store for graph\n",
        "    train_losses.append(avg_train_loss)\n",
        "    val_losses.append(val_loss)\n",
        "\n",
        "    # Print every 5 epochs (or final epoch)\n",
        "    if (epoch + 1) % 5 == 0 or (epoch + 1) == num_epochs:\n",
        "        print(f\"Epoch [{epoch+1}/{num_epochs}]\")\n",
        "        print(f\"Train Loss: {avg_train_loss:.4f} | \"\n",
        "              f\"Val Loss: {val_loss:.4f} | Val Acc: {val_acc:.2f}%\\n\")"
      ],
      "metadata": {
        "colab": {
          "base_uri": "https://localhost:8080/"
        },
        "id": "IsvmF4uhcBRu",
        "outputId": "27d8bed7-3c7e-433b-a2f5-bf337b6642b6"
      },
      "id": "IsvmF4uhcBRu",
      "execution_count": 8,
      "outputs": [
        {
          "output_type": "stream",
          "name": "stdout",
          "text": [
            "Epoch [5/50]\n",
            "Train Loss: 0.3869 | Val Loss: 0.3378 | Val Acc: 87.58%\n",
            "\n",
            "Epoch [10/50]\n",
            "Train Loss: 0.2616 | Val Loss: 0.2618 | Val Acc: 88.82%\n",
            "\n",
            "Epoch [15/50]\n",
            "Train Loss: 0.2181 | Val Loss: 0.2331 | Val Acc: 90.06%\n",
            "\n",
            "Epoch [20/50]\n",
            "Train Loss: 0.2009 | Val Loss: 0.2388 | Val Acc: 90.06%\n",
            "\n",
            "Epoch [25/50]\n",
            "Train Loss: 0.1949 | Val Loss: 0.2167 | Val Acc: 90.68%\n",
            "\n",
            "Epoch [30/50]\n",
            "Train Loss: 0.1886 | Val Loss: 0.2047 | Val Acc: 91.30%\n",
            "\n",
            "Epoch [35/50]\n",
            "Train Loss: 0.1411 | Val Loss: 0.2067 | Val Acc: 91.30%\n",
            "\n",
            "Epoch [40/50]\n",
            "Train Loss: 0.1545 | Val Loss: 0.1968 | Val Acc: 91.93%\n",
            "\n",
            "Epoch [45/50]\n",
            "Train Loss: 0.1672 | Val Loss: 0.2186 | Val Acc: 90.06%\n",
            "\n",
            "Epoch [50/50]\n",
            "Train Loss: 0.1337 | Val Loss: 0.1907 | Val Acc: 91.30%\n",
            "\n"
          ]
        }
      ]
    },
    {
      "cell_type": "code",
      "source": [
        "# Plotting after training\n",
        "plt.figure(figsize=(10, 6))\n",
        "plt.plot(train_losses, label=\"Train Loss\", marker='o')\n",
        "plt.plot(val_losses, label=\"Validation Loss\", marker='s')\n",
        "plt.title(\"Training and Validation Loss over Epochs\")\n",
        "plt.xlabel(\"Epoch\")\n",
        "plt.ylabel(\"Loss\")\n",
        "plt.legend()\n",
        "plt.grid(True)\n",
        "plt.tight_layout()\n",
        "plt.show()\n"
      ],
      "metadata": {
        "colab": {
          "base_uri": "https://localhost:8080/",
          "height": 607
        },
        "id": "_lXzvi10cF6n",
        "outputId": "46fc55e5-142b-4772-fb3f-670779768182"
      },
      "id": "_lXzvi10cF6n",
      "execution_count": 9,
      "outputs": [
        {
          "output_type": "display_data",
          "data": {
            "text/plain": [
              "<Figure size 1000x600 with 1 Axes>"
            ],
            "image/png": "[encoded data removed]"
          },
          "metadata": {}
        }
      ]
    },
    {
      "cell_type": "markdown",
      "source": [
        "# Step 6: Evaluate the Model on Test Data"
      ],
      "metadata": {
        "id": "4YissutfLFYD"
      },
      "id": "4YissutfLFYD"
    },
    {
      "cell_type": "code",
      "source": [
        "def generate_classification_report(model, dataloader, class_names, device, name=\"\"):\n",
        "    model.eval()\n",
        "    preds_list = []\n",
        "    labels_list = []\n",
        "\n",
        "    with torch.no_grad():\n",
        "        for batch in dataloader:\n",
        "            if isinstance(batch, (list, tuple)):\n",
        "                images, labels = batch\n",
        "            else:\n",
        "                images = batch\n",
        "                labels = None  # Just in case, unlikely in this use case\n",
        "\n",
        "            images = images.to(device)\n",
        "            labels = labels.to(device)\n",
        "\n",
        "            outputs = model(images)\n",
        "            _, preds = torch.max(outputs, 1)\n",
        "\n",
        "            preds_list.extend(preds.cpu().tolist())\n",
        "            labels_list.extend(labels.cpu().tolist())\n",
        "\n",
        "    print(f\"\\n📊 Classification Report - {name} Set\\n\")\n",
        "    print(classification_report(labels_list, preds_list, target_names=class_names))\n"
      ],
      "metadata": {
        "id": "KicKYLPoOgm5"
      },
      "id": "KicKYLPoOgm5",
      "execution_count": 10,
      "outputs": []
    },
    {
      "cell_type": "code",
      "source": [
        "class_names = train_ds.classes\n",
        "generate_classification_report(model, test_loader, class_names, device, name=\"Test\")"
      ],
      "metadata": {
        "colab": {
          "base_uri": "https://localhost:8080/"
        },
        "id": "8tcc4WJ-Oij2",
        "outputId": "9672b31a-a8f0-4ead-e309-cff1ff16cecb"
      },
      "id": "8tcc4WJ-Oij2",
      "execution_count": 11,
      "outputs": [
        {
          "output_type": "stream",
          "name": "stdout",
          "text": [
            "\n",
            "📊 Classification Report - Test Set\n",
            "\n",
            "              precision    recall  f1-score   support\n",
            "\n",
            "     chicken       0.98      0.91      0.95       172\n",
            "        duck       0.95      0.99      0.97       310\n",
            "\n",
            "    accuracy                           0.96       482\n",
            "   macro avg       0.97      0.95      0.96       482\n",
            "weighted avg       0.96      0.96      0.96       482\n",
            "\n"
          ]
        }
      ]
    },
    {
      "cell_type": "code",
      "source": [
        "generate_classification_report(model, val_loader, class_names, device, name=\"Validation\")"
      ],
      "metadata": {
        "colab": {
          "base_uri": "https://localhost:8080/"
        },
        "id": "21jSlyZAN0sl",
        "outputId": "83c2cbd4-df95-41c8-a1f0-d392994d9d19"
      },
      "id": "21jSlyZAN0sl",
      "execution_count": 12,
      "outputs": [
        {
          "output_type": "stream",
          "name": "stdout",
          "text": [
            "\n",
            "📊 Classification Report - Validation Set\n",
            "\n",
            "              precision    recall  f1-score   support\n",
            "\n",
            "     chicken       0.93      0.79      0.85        52\n",
            "        duck       0.91      0.97      0.94       109\n",
            "\n",
            "    accuracy                           0.91       161\n",
            "   macro avg       0.92      0.88      0.90       161\n",
            "weighted avg       0.91      0.91      0.91       161\n",
            "\n"
          ]
        }
      ]
    },
    {
      "cell_type": "code",
      "source": [
        "generate_classification_report(model, train_loader, class_names, device, name=\"Train\")"
      ],
      "metadata": {
        "colab": {
          "base_uri": "https://localhost:8080/"
        },
        "id": "XqBS2e7TPlZx",
        "outputId": "07d849a8-8ca1-4cbc-c404-fab2880a4e9b"
      },
      "id": "XqBS2e7TPlZx",
      "execution_count": 13,
      "outputs": [
        {
          "output_type": "stream",
          "name": "stdout",
          "text": [
            "\n",
            "📊 Classification Report - Train Set\n",
            "\n",
            "              precision    recall  f1-score   support\n",
            "\n",
            "     chicken       0.95      0.95      0.95       275\n",
            "        duck       0.98      0.98      0.98       622\n",
            "\n",
            "    accuracy                           0.97       897\n",
            "   macro avg       0.96      0.96      0.96       897\n",
            "weighted avg       0.97      0.97      0.97       897\n",
            "\n"
          ]
        }
      ]
    },
    {
      "cell_type": "code",
      "source": [],
      "metadata": {
        "id": "1FlLWF4xPlvb"
      },
      "id": "1FlLWF4xPlvb",
      "execution_count": 13,
      "outputs": []
    },
    {
      "cell_type": "code",
      "source": [],
      "metadata": {
        "id": "HEHVuXOvgmf1"
      },
      "id": "HEHVuXOvgmf1",
      "execution_count": 13,
      "outputs": []
    },
    {
      "cell_type": "code",
      "source": [],
      "metadata": {
        "id": "ZK9vih03gmda"
      },
      "id": "ZK9vih03gmda",
      "execution_count": 13,
      "outputs": []
    },
    {
      "cell_type": "code",
      "source": [],
      "metadata": {
        "id": "pYpaIStbgmbW"
      },
      "id": "pYpaIStbgmbW",
      "execution_count": 13,
      "outputs": []
    },
    {
      "cell_type": "code",
      "source": [],
      "metadata": {
        "id": "Tjn2rwq9gmY1"
      },
      "id": "Tjn2rwq9gmY1",
      "execution_count": 13,
      "outputs": []
    },
    {
      "cell_type": "code",
      "source": [],
      "metadata": {
        "id": "72GAtersgmWE"
      },
      "id": "72GAtersgmWE",
      "execution_count": 13,
      "outputs": []
    },
    {
      "cell_type": "markdown",
      "source": [
        "# Doing dry run for 500 Epochs\n"
      ],
      "metadata": {
        "id": "CIXydoWOgmwf"
      },
      "id": "CIXydoWOgmwf"
    },
    {
      "cell_type": "code",
      "source": [
        "model = models.resnet18(pretrained=True)\n",
        "\n",
        "num_ftrs = model.fc.in_features\n",
        "model.fc = nn.Linear(num_ftrs, 2)  # Chicken vs Duck\n",
        "for param in model.parameters():\n",
        "    param.requires_grad = False  # freeze all layers\n",
        "\n",
        "# Unfreeze the final classification layer\n",
        "for param in model.fc.parameters():\n",
        "    param.requires_grad = True\n",
        "\n",
        "model = model.to(device)\n",
        "\n",
        "# Loss and optimizer\n",
        "criterion = nn.CrossEntropyLoss()\n",
        "optimizer = torch.optim.Adam(model.parameters(), lr=0.0001)\n",
        "\n",
        "train_losses = []\n",
        "val_losses = []\n",
        "\n",
        "num_epochs = 500\n",
        "\n",
        "for epoch in range(num_epochs):\n",
        "    model.train()\n",
        "    running_loss = 0.0\n",
        "\n",
        "    for images, labels in train_loader:\n",
        "        images, labels = images.to(device), labels.to(device)\n",
        "\n",
        "        outputs = model(images)\n",
        "        loss = criterion(outputs, labels)\n",
        "\n",
        "        optimizer.zero_grad()\n",
        "        loss.backward()\n",
        "        optimizer.step()\n",
        "\n",
        "        running_loss += loss.item()\n",
        "\n",
        "    avg_train_loss = running_loss / len(train_loader)\n",
        "    val_loss, val_acc = evaluate(model, val_loader)\n",
        "\n",
        "    # Store for graph\n",
        "    train_losses.append(avg_train_loss)\n",
        "    val_losses.append(val_loss)\n",
        "\n",
        "    # Print every 5 epochs (or final epoch)\n",
        "    if (epoch + 1) % 5 == 0 or (epoch + 1) == num_epochs:\n",
        "        print(f\"Epoch [{epoch+1}/{num_epochs}]\")\n",
        "        print(f\"Train Loss: {avg_train_loss:.4f} | \"\n",
        "              f\"Val Loss: {val_loss:.4f} | Val Acc: {val_acc:.2f}%\\n\")\n",
        "\n",
        "# Plotting after training\n",
        "plt.figure(figsize=(10, 6))\n",
        "plt.plot(train_losses, label=\"Train Loss\", marker='o')\n",
        "plt.plot(val_losses, label=\"Validation Loss\", marker='s')\n",
        "plt.title(\"Training and Validation Loss over Epochs\")\n",
        "plt.xlabel(\"Epoch\")\n",
        "plt.ylabel(\"Loss\")\n",
        "plt.legend()\n",
        "plt.grid(True)\n",
        "plt.tight_layout()\n",
        "plt.show()\n",
        "\n",
        "\n",
        "class_names = train_ds.classes\n",
        "generate_classification_report(model, test_loader, class_names, device, name=\"Test\")"
      ],
      "metadata": {
        "colab": {
          "base_uri": "https://localhost:8080/",
          "height": 1000
        },
        "id": "eZRFWbSKgrGI",
        "outputId": "8c8992b8-e260-416d-e71f-54a906c4f9b5"
      },
      "id": "eZRFWbSKgrGI",
      "execution_count": 14,
      "outputs": [
        {
          "metadata": {
            "tags": null
          },
          "name": "stderr",
          "output_type": "stream",
          "text": [
            "/usr/local/lib/python3.11/dist-packages/torchvision/models/_utils.py:208: UserWarning: The parameter 'pretrained' is deprecated since 0.13 and may be removed in the future, please use 'weights' instead.\n",
            "  warnings.warn(\n",
            "/usr/local/lib/python3.11/dist-packages/torchvision/models/_utils.py:223: UserWarning: Arguments other than a weight enum or `None` for 'weights' are deprecated since 0.13 and may be removed in the future. The current behavior is equivalent to passing `weights=ResNet18_Weights.IMAGENET1K_V1`. You can also use `weights=ResNet18_Weights.DEFAULT` to get the most up-to-date weights.\n",
            "  warnings.warn(msg)\n"
          ]
        },
        {
          "output_type": "stream",
          "name": "stdout",
          "text": [
            "Epoch [5/500]\n",
            "Train Loss: 0.3671 | Val Loss: 0.3430 | Val Acc: 88.82%\n",
            "\n",
            "Epoch [10/500]\n",
            "Train Loss: 0.2765 | Val Loss: 0.2820 | Val Acc: 88.20%\n",
            "\n",
            "Epoch [15/500]\n",
            "Train Loss: 0.2010 | Val Loss: 0.2515 | Val Acc: 90.68%\n",
            "\n",
            "Epoch [20/500]\n",
            "Train Loss: 0.1868 | Val Loss: 0.2259 | Val Acc: 91.93%\n",
            "\n",
            "Epoch [25/500]\n",
            "Train Loss: 0.1886 | Val Loss: 0.2222 | Val Acc: 91.30%\n",
            "\n",
            "Epoch [30/500]\n",
            "Train Loss: 0.1502 | Val Loss: 0.2227 | Val Acc: 91.30%\n",
            "\n",
            "Epoch [35/500]\n",
            "Train Loss: 0.1710 | Val Loss: 0.2170 | Val Acc: 91.30%\n",
            "\n",
            "Epoch [40/500]\n",
            "Train Loss: 0.1333 | Val Loss: 0.2080 | Val Acc: 91.30%\n",
            "\n",
            "Epoch [45/500]\n",
            "Train Loss: 0.1534 | Val Loss: 0.2074 | Val Acc: 91.30%\n",
            "\n",
            "Epoch [50/500]\n",
            "Train Loss: 0.1141 | Val Loss: 0.2092 | Val Acc: 91.30%\n",
            "\n",
            "Epoch [55/500]\n",
            "Train Loss: 0.1206 | Val Loss: 0.2025 | Val Acc: 91.30%\n",
            "\n",
            "Epoch [60/500]\n",
            "Train Loss: 0.1222 | Val Loss: 0.2007 | Val Acc: 91.30%\n",
            "\n",
            "Epoch [65/500]\n",
            "Train Loss: 0.1178 | Val Loss: 0.1951 | Val Acc: 92.55%\n",
            "\n",
            "Epoch [70/500]\n",
            "Train Loss: 0.1091 | Val Loss: 0.1875 | Val Acc: 92.55%\n",
            "\n",
            "Epoch [75/500]\n",
            "Train Loss: 0.1060 | Val Loss: 0.2090 | Val Acc: 90.68%\n",
            "\n",
            "Epoch [80/500]\n",
            "Train Loss: 0.1026 | Val Loss: 0.1945 | Val Acc: 93.17%\n",
            "\n",
            "Epoch [85/500]\n",
            "Train Loss: 0.1364 | Val Loss: 0.2088 | Val Acc: 90.68%\n",
            "\n",
            "Epoch [90/500]\n",
            "Train Loss: 0.1144 | Val Loss: 0.1923 | Val Acc: 92.55%\n",
            "\n",
            "Epoch [95/500]\n",
            "Train Loss: 0.1123 | Val Loss: 0.1976 | Val Acc: 91.93%\n",
            "\n",
            "Epoch [100/500]\n",
            "Train Loss: 0.0983 | Val Loss: 0.1914 | Val Acc: 91.93%\n",
            "\n",
            "Epoch [105/500]\n",
            "Train Loss: 0.1007 | Val Loss: 0.2035 | Val Acc: 91.30%\n",
            "\n",
            "Epoch [110/500]\n",
            "Train Loss: 0.0988 | Val Loss: 0.1953 | Val Acc: 93.17%\n",
            "\n",
            "Epoch [115/500]\n",
            "Train Loss: 0.0898 | Val Loss: 0.1968 | Val Acc: 91.30%\n",
            "\n",
            "Epoch [120/500]\n",
            "Train Loss: 0.1006 | Val Loss: 0.2037 | Val Acc: 90.68%\n",
            "\n",
            "Epoch [125/500]\n",
            "Train Loss: 0.0839 | Val Loss: 0.2028 | Val Acc: 91.30%\n",
            "\n",
            "Epoch [130/500]\n",
            "Train Loss: 0.1362 | Val Loss: 0.2148 | Val Acc: 90.68%\n",
            "\n",
            "Epoch [135/500]\n",
            "Train Loss: 0.0897 | Val Loss: 0.1986 | Val Acc: 91.93%\n",
            "\n",
            "Epoch [140/500]\n",
            "Train Loss: 0.0842 | Val Loss: 0.1870 | Val Acc: 94.41%\n",
            "\n",
            "Epoch [145/500]\n",
            "Train Loss: 0.0881 | Val Loss: 0.2034 | Val Acc: 91.30%\n",
            "\n",
            "Epoch [150/500]\n",
            "Train Loss: 0.0709 | Val Loss: 0.2001 | Val Acc: 92.55%\n",
            "\n",
            "Epoch [155/500]\n",
            "Train Loss: 0.0856 | Val Loss: 0.1998 | Val Acc: 93.17%\n",
            "\n",
            "Epoch [160/500]\n",
            "Train Loss: 0.0803 | Val Loss: 0.2284 | Val Acc: 90.06%\n",
            "\n",
            "Epoch [165/500]\n",
            "Train Loss: 0.0908 | Val Loss: 0.1894 | Val Acc: 95.03%\n",
            "\n",
            "Epoch [170/500]\n",
            "Train Loss: 0.0921 | Val Loss: 0.1952 | Val Acc: 93.17%\n",
            "\n",
            "Epoch [175/500]\n",
            "Train Loss: 0.1272 | Val Loss: 0.2207 | Val Acc: 90.68%\n",
            "\n",
            "Epoch [180/500]\n",
            "Train Loss: 0.1386 | Val Loss: 0.2521 | Val Acc: 89.44%\n",
            "\n",
            "Epoch [185/500]\n",
            "Train Loss: 0.1432 | Val Loss: 0.2278 | Val Acc: 91.93%\n",
            "\n",
            "Epoch [190/500]\n",
            "Train Loss: 0.0847 | Val Loss: 0.2012 | Val Acc: 93.17%\n",
            "\n",
            "Epoch [195/500]\n",
            "Train Loss: 0.0729 | Val Loss: 0.2048 | Val Acc: 92.55%\n",
            "\n",
            "Epoch [200/500]\n",
            "Train Loss: 0.1284 | Val Loss: 0.2351 | Val Acc: 89.44%\n",
            "\n",
            "Epoch [205/500]\n",
            "Train Loss: 0.1229 | Val Loss: 0.2446 | Val Acc: 90.06%\n",
            "\n",
            "Epoch [210/500]\n",
            "Train Loss: 0.1336 | Val Loss: 0.2173 | Val Acc: 90.68%\n",
            "\n",
            "Epoch [215/500]\n",
            "Train Loss: 0.0659 | Val Loss: 0.1978 | Val Acc: 91.93%\n",
            "\n",
            "Epoch [220/500]\n",
            "Train Loss: 0.0800 | Val Loss: 0.2098 | Val Acc: 92.55%\n",
            "\n",
            "Epoch [225/500]\n",
            "Train Loss: 0.0741 | Val Loss: 0.1977 | Val Acc: 92.55%\n",
            "\n",
            "Epoch [230/500]\n",
            "Train Loss: 0.1269 | Val Loss: 0.2245 | Val Acc: 90.68%\n",
            "\n",
            "Epoch [235/500]\n",
            "Train Loss: 0.0628 | Val Loss: 0.2044 | Val Acc: 91.30%\n",
            "\n",
            "Epoch [240/500]\n",
            "Train Loss: 0.0610 | Val Loss: 0.1953 | Val Acc: 92.55%\n",
            "\n",
            "Epoch [245/500]\n",
            "Train Loss: 0.0695 | Val Loss: 0.2032 | Val Acc: 92.55%\n",
            "\n",
            "Epoch [250/500]\n",
            "Train Loss: 0.0780 | Val Loss: 0.2090 | Val Acc: 92.55%\n",
            "\n",
            "Epoch [255/500]\n",
            "Train Loss: 0.0861 | Val Loss: 0.2154 | Val Acc: 92.55%\n",
            "\n",
            "Epoch [260/500]\n",
            "Train Loss: 0.0736 | Val Loss: 0.2175 | Val Acc: 91.30%\n",
            "\n",
            "Epoch [265/500]\n",
            "Train Loss: 0.0785 | Val Loss: 0.1988 | Val Acc: 91.93%\n",
            "\n",
            "Epoch [270/500]\n",
            "Train Loss: 0.0635 | Val Loss: 0.2024 | Val Acc: 93.79%\n",
            "\n",
            "Epoch [275/500]\n",
            "Train Loss: 0.0593 | Val Loss: 0.2040 | Val Acc: 91.93%\n",
            "\n",
            "Epoch [280/500]\n",
            "Train Loss: 0.1202 | Val Loss: 0.2240 | Val Acc: 92.55%\n",
            "\n",
            "Epoch [285/500]\n",
            "Train Loss: 0.0913 | Val Loss: 0.1925 | Val Acc: 93.79%\n",
            "\n",
            "Epoch [290/500]\n",
            "Train Loss: 0.1422 | Val Loss: 0.2439 | Val Acc: 90.68%\n",
            "\n",
            "Epoch [295/500]\n",
            "Train Loss: 0.1291 | Val Loss: 0.2494 | Val Acc: 90.68%\n",
            "\n",
            "Epoch [300/500]\n",
            "Train Loss: 0.0669 | Val Loss: 0.2200 | Val Acc: 93.17%\n",
            "\n",
            "Epoch [305/500]\n",
            "Train Loss: 0.0780 | Val Loss: 0.1979 | Val Acc: 93.79%\n",
            "\n",
            "Epoch [310/500]\n",
            "Train Loss: 0.0635 | Val Loss: 0.1967 | Val Acc: 93.79%\n",
            "\n",
            "Epoch [315/500]\n",
            "Train Loss: 0.0689 | Val Loss: 0.2123 | Val Acc: 94.41%\n",
            "\n",
            "Epoch [320/500]\n",
            "Train Loss: 0.0768 | Val Loss: 0.2085 | Val Acc: 92.55%\n",
            "\n",
            "Epoch [325/500]\n",
            "Train Loss: 0.0655 | Val Loss: 0.2068 | Val Acc: 93.17%\n",
            "\n",
            "Epoch [330/500]\n",
            "Train Loss: 0.0749 | Val Loss: 0.2270 | Val Acc: 91.30%\n",
            "\n",
            "Epoch [335/500]\n",
            "Train Loss: 0.1272 | Val Loss: 0.2355 | Val Acc: 90.68%\n",
            "\n",
            "Epoch [340/500]\n",
            "Train Loss: 0.1207 | Val Loss: 0.2082 | Val Acc: 92.55%\n",
            "\n",
            "Epoch [345/500]\n",
            "Train Loss: 0.0613 | Val Loss: 0.2055 | Val Acc: 93.17%\n",
            "\n",
            "Epoch [350/500]\n",
            "Train Loss: 0.0713 | Val Loss: 0.2040 | Val Acc: 92.55%\n",
            "\n",
            "Epoch [355/500]\n",
            "Train Loss: 0.0760 | Val Loss: 0.2204 | Val Acc: 91.93%\n",
            "\n",
            "Epoch [360/500]\n",
            "Train Loss: 0.0551 | Val Loss: 0.2082 | Val Acc: 91.93%\n",
            "\n",
            "Epoch [365/500]\n",
            "Train Loss: 0.0533 | Val Loss: 0.2282 | Val Acc: 91.93%\n",
            "\n",
            "Epoch [370/500]\n",
            "Train Loss: 0.1055 | Val Loss: 0.2265 | Val Acc: 91.93%\n",
            "\n",
            "Epoch [375/500]\n",
            "Train Loss: 0.0653 | Val Loss: 0.2215 | Val Acc: 91.93%\n",
            "\n",
            "Epoch [380/500]\n",
            "Train Loss: 0.0680 | Val Loss: 0.2226 | Val Acc: 91.93%\n",
            "\n",
            "Epoch [385/500]\n",
            "Train Loss: 0.0615 | Val Loss: 0.2146 | Val Acc: 92.55%\n",
            "\n",
            "Epoch [390/500]\n",
            "Train Loss: 0.0750 | Val Loss: 0.2246 | Val Acc: 92.55%\n",
            "\n",
            "Epoch [395/500]\n",
            "Train Loss: 0.0737 | Val Loss: 0.2431 | Val Acc: 91.30%\n",
            "\n",
            "Epoch [400/500]\n",
            "Train Loss: 0.0596 | Val Loss: 0.2341 | Val Acc: 91.93%\n",
            "\n",
            "Epoch [405/500]\n",
            "Train Loss: 0.0587 | Val Loss: 0.2264 | Val Acc: 93.17%\n",
            "\n",
            "Epoch [410/500]\n",
            "Train Loss: 0.0618 | Val Loss: 0.2470 | Val Acc: 91.93%\n",
            "\n",
            "Epoch [415/500]\n",
            "Train Loss: 0.0613 | Val Loss: 0.2482 | Val Acc: 91.93%\n",
            "\n",
            "Epoch [420/500]\n",
            "Train Loss: 0.0622 | Val Loss: 0.2265 | Val Acc: 91.30%\n",
            "\n",
            "Epoch [425/500]\n",
            "Train Loss: 0.0773 | Val Loss: 0.2246 | Val Acc: 93.17%\n",
            "\n",
            "Epoch [430/500]\n",
            "Train Loss: 0.0603 | Val Loss: 0.2255 | Val Acc: 93.17%\n",
            "\n",
            "Epoch [435/500]\n",
            "Train Loss: 0.0630 | Val Loss: 0.2199 | Val Acc: 93.17%\n",
            "\n",
            "Epoch [440/500]\n",
            "Train Loss: 0.1144 | Val Loss: 0.2268 | Val Acc: 91.93%\n",
            "\n",
            "Epoch [445/500]\n",
            "Train Loss: 0.0670 | Val Loss: 0.2448 | Val Acc: 91.93%\n",
            "\n",
            "Epoch [450/500]\n",
            "Train Loss: 0.0739 | Val Loss: 0.2242 | Val Acc: 92.55%\n",
            "\n",
            "Epoch [455/500]\n",
            "Train Loss: 0.0609 | Val Loss: 0.2210 | Val Acc: 91.93%\n",
            "\n",
            "Epoch [460/500]\n",
            "Train Loss: 0.0487 | Val Loss: 0.2236 | Val Acc: 93.79%\n",
            "\n",
            "Epoch [465/500]\n",
            "Train Loss: 0.0640 | Val Loss: 0.2442 | Val Acc: 91.30%\n",
            "\n",
            "Epoch [470/500]\n",
            "Train Loss: 0.1193 | Val Loss: 0.2362 | Val Acc: 91.30%\n",
            "\n",
            "Epoch [475/500]\n",
            "Train Loss: 0.0567 | Val Loss: 0.2243 | Val Acc: 92.55%\n",
            "\n",
            "Epoch [480/500]\n",
            "Train Loss: 0.0633 | Val Loss: 0.2424 | Val Acc: 90.68%\n",
            "\n",
            "Epoch [485/500]\n",
            "Train Loss: 0.0583 | Val Loss: 0.2335 | Val Acc: 91.93%\n",
            "\n",
            "Epoch [490/500]\n",
            "Train Loss: 0.0671 | Val Loss: 0.2667 | Val Acc: 89.44%\n",
            "\n",
            "Epoch [495/500]\n",
            "Train Loss: 0.0677 | Val Loss: 0.2379 | Val Acc: 90.68%\n",
            "\n",
            "Epoch [500/500]\n",
            "Train Loss: 0.0555 | Val Loss: 0.2375 | Val Acc: 91.93%\n",
            "\n"
          ]
        },
        {
          "output_type": "display_data",
          "data": {
            "text/plain": [
              "<Figure size 1000x600 with 1 Axes>"
            ],
            "image/png": "[encoded data removed]"
          },
          "metadata": {}
        },
        {
          "output_type": "stream",
          "name": "stdout",
          "text": [
            "\n",
            "📊 Classification Report - Test Set\n",
            "\n",
            "              precision    recall  f1-score   support\n",
            "\n",
            "     chicken       0.97      0.90      0.94       172\n",
            "        duck       0.95      0.99      0.97       310\n",
            "\n",
            "    accuracy                           0.96       482\n",
            "   macro avg       0.96      0.94      0.95       482\n",
            "weighted avg       0.96      0.96      0.96       482\n",
            "\n"
          ]
        }
      ]
    }
  ],
  "metadata": {
    "language_info": {
      "name": "python"
    },
    "colab": {
      "provenance": [],
      "toc_visible": true,
      "gpuType": "T4"
    },
    "kernelspec": {
      "name": "python3",
      "display_name": "Python 3"
    },
    "accelerator": "GPU"
  },
  "nbformat": 4,
  "nbformat_minor": 5
}