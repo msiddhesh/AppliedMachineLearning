{
  "cells": [
    {
      "cell_type": "markdown",
      "source": [
        "#### Importing and organizing data"
      ],
      "metadata": {
        "id": "-HjMBVSCKKDW"
      },
      "id": "-HjMBVSCKKDW"
    },
    {
      "cell_type": "code",
      "source": [
        "import kagglehub\n",
        "import shutil\n",
        "import os\n",
        "\n",
        "# Download the dataset (cached path)\n",
        "cached_path = kagglehub.dataset_download(\"roudranildas/chicken-images-classification-dataset\")\n",
        "\n",
        "# Define target path (working directory)\n",
        "target_path = \"/content/\"\n",
        "\n",
        "# Copy from cache to working directory\n",
        "shutil.copytree(cached_path, target_path, dirs_exist_ok=True)\n",
        "\n",
        "# New structure path\n",
        "base_dir = \"/content/organized-data\"\n",
        "splits = ['train', 'val', 'test']\n",
        "classes = ['chicken', 'duck']\n",
        "\n",
        "# Create new folders\n",
        "for split in splits:\n",
        "\n",
        "    for cls in classes:\n",
        "        os.makedirs(os.path.join(base_dir, split, cls), exist_ok=True)\n",
        "\n",
        "# Copy files\n",
        "for cls in classes:\n",
        "    src_root = f\"/content/data/{cls}-images/data\"\n",
        "    for split in splits:\n",
        "        src = os.path.join(src_root, split)\n",
        "        dst = os.path.join(base_dir, split, cls)\n",
        "        for file in os.listdir(src):\n",
        "            shutil.copy(os.path.join(src, file), dst)\n"
      ],
      "metadata": {
        "id": "4nnbufEsJfRO"
      },
      "id": "4nnbufEsJfRO",
      "execution_count": 1,
      "outputs": []
    },
    {
      "cell_type": "markdown",
      "source": [
        "# Step 1:  Import necessary libraries"
      ],
      "metadata": {
        "id": "ej2ezz9RIID0"
      },
      "id": "ej2ezz9RIID0"
    },
    {
      "cell_type": "code",
      "source": [
        "# Step 1: Setup\n",
        "import torch\n",
        "import torch.nn as nn\n",
        "from torchvision import datasets, transforms, models\n",
        "from torch.utils.data import DataLoader\n",
        "from sklearn.metrics import classification_report\n",
        "import matplotlib.pyplot as plt\n",
        "import numpy as np\n",
        "import os\n",
        "\n",
        "device = torch.device(\"cuda\" if torch.cuda.is_available() else \"cpu\")\n",
        "print(device)"
      ],
      "metadata": {
        "colab": {
          "base_uri": "https://localhost:8080/"
        },
        "id": "5sieY2jUE-M5",
        "outputId": "2c624914-8fb3-4733-c4db-0a6e8dab6b26"
      },
      "id": "5sieY2jUE-M5",
      "execution_count": 2,
      "outputs": [
        {
          "output_type": "stream",
          "name": "stdout",
          "text": [
            "cuda\n"
          ]
        }
      ]
    },
    {
      "cell_type": "markdown",
      "source": [
        "# Step 2: Load dataset"
      ],
      "metadata": {
        "id": "lqDK7s_YKcxC"
      },
      "id": "lqDK7s_YKcxC"
    },
    {
      "cell_type": "code",
      "source": [
        "from torchvision import datasets, transforms\n",
        "\n",
        "transform = transforms.Compose([\n",
        "    transforms.Resize((224, 224)),\n",
        "    transforms.ToTensor()\n",
        "])\n",
        "\n",
        "base_dir = \"/content/organized-data\"\n",
        "\n",
        "train_ds = datasets.ImageFolder(root=os.path.join(base_dir, 'train'), transform=transform)\n",
        "val_ds = datasets.ImageFolder(root=os.path.join(base_dir, 'val'), transform=transform)\n",
        "test_ds = datasets.ImageFolder(root=os.path.join(base_dir, 'test'), transform=transform)\n",
        "\n",
        "train_loader = DataLoader(train_ds, batch_size=16, shuffle=True)\n",
        "val_loader = DataLoader(val_ds, batch_size=16, shuffle=False)\n",
        "test_loader = DataLoader(test_ds, batch_size=16, shuffle=False)\n",
        "\n",
        "print(\"Classes:\", train_ds.classes)"
      ],
      "metadata": {
        "colab": {
          "base_uri": "https://localhost:8080/"
        },
        "id": "xUvziCKcIGXL",
        "outputId": "9fcdf902-14d8-464c-cc9e-4ad654036ef8"
      },
      "id": "xUvziCKcIGXL",
      "execution_count": 3,
      "outputs": [
        {
          "output_type": "stream",
          "name": "stdout",
          "text": [
            "Classes: ['chicken', 'duck']\n"
          ]
        }
      ]
    },
    {
      "cell_type": "markdown",
      "source": [
        "# Step 3: Load pre-trained model"
      ],
      "metadata": {
        "id": "NsEXGyAFKXpN"
      },
      "id": "NsEXGyAFKXpN"
    },
    {
      "cell_type": "code",
      "source": [
        "model = models.resnet18(pretrained=True)\n",
        "\n",
        "num_ftrs = model.fc.in_features\n",
        "model.fc = nn.Linear(num_ftrs, 2)  # Chicken vs Duck\n",
        "for param in model.parameters():\n",
        "    param.requires_grad = False  # freeze all layers\n",
        "\n",
        "# Unfreeze the final classification layer\n",
        "for param in model.fc.parameters():\n",
        "    param.requires_grad = True\n",
        "\n",
        "model = model.to(device)\n",
        "\n",
        "# Loss and optimizer\n",
        "criterion = nn.CrossEntropyLoss()\n",
        "optimizer = torch.optim.Adam(model.parameters(), lr=0.0001)"
      ],
      "metadata": {
        "colab": {
          "base_uri": "https://localhost:8080/"
        },
        "id": "IrX5aqyWKCmh",
        "outputId": "8e0c7791-7425-4ce6-99ea-81b1c4cc7b21"
      },
      "id": "IrX5aqyWKCmh",
      "execution_count": 4,
      "outputs": [
        {
          "output_type": "stream",
          "name": "stderr",
          "text": [
            "/usr/local/lib/python3.11/dist-packages/torchvision/models/_utils.py:208: UserWarning: The parameter 'pretrained' is deprecated since 0.13 and may be removed in the future, please use 'weights' instead.\n",
            "  warnings.warn(\n",
            "/usr/local/lib/python3.11/dist-packages/torchvision/models/_utils.py:223: UserWarning: Arguments other than a weight enum or `None` for 'weights' are deprecated since 0.13 and may be removed in the future. The current behavior is equivalent to passing `weights=ResNet18_Weights.IMAGENET1K_V1`. You can also use `weights=ResNet18_Weights.DEFAULT` to get the most up-to-date weights.\n",
            "  warnings.warn(msg)\n"
          ]
        }
      ]
    },
    {
      "cell_type": "code",
      "source": [
        "model"
      ],
      "metadata": {
        "colab": {
          "base_uri": "https://localhost:8080/"
        },
        "id": "vpNj6VdFQFK1",
        "outputId": "5beb560b-e5a4-4453-b583-623c028db157"
      },
      "id": "vpNj6VdFQFK1",
      "execution_count": 5,
      "outputs": [
        {
          "output_type": "execute_result",
          "data": {
            "text/plain": [
              "ResNet(\n",
              "  (conv1): Conv2d(3, 64, kernel_size=(7, 7), stride=(2, 2), padding=(3, 3), bias=False)\n",
              "  (bn1): BatchNorm2d(64, eps=1e-05, momentum=0.1, affine=True, track_running_stats=True)\n",
              "  (relu): ReLU(inplace=True)\n",
              "  (maxpool): MaxPool2d(kernel_size=3, stride=2, padding=1, dilation=1, ceil_mode=False)\n",
              "  (layer1): Sequential(\n",
              "    (0): BasicBlock(\n",
              "      (conv1): Conv2d(64, 64, kernel_size=(3, 3), stride=(1, 1), padding=(1, 1), bias=False)\n",
              "      (bn1): BatchNorm2d(64, eps=1e-05, momentum=0.1, affine=True, track_running_stats=True)\n",
              "      (relu): ReLU(inplace=True)\n",
              "      (conv2): Conv2d(64, 64, kernel_size=(3, 3), stride=(1, 1), padding=(1, 1), bias=False)\n",
              "      (bn2): BatchNorm2d(64, eps=1e-05, momentum=0.1, affine=True, track_running_stats=True)\n",
              "    )\n",
              "    (1): BasicBlock(\n",
              "      (conv1): Conv2d(64, 64, kernel_size=(3, 3), stride=(1, 1), padding=(1, 1), bias=False)\n",
              "      (bn1): BatchNorm2d(64, eps=1e-05, momentum=0.1, affine=True, track_running_stats=True)\n",
              "      (relu): ReLU(inplace=True)\n",
              "      (conv2): Conv2d(64, 64, kernel_size=(3, 3), stride=(1, 1), padding=(1, 1), bias=False)\n",
              "      (bn2): BatchNorm2d(64, eps=1e-05, momentum=0.1, affine=True, track_running_stats=True)\n",
              "    )\n",
              "  )\n",
              "  (layer2): Sequential(\n",
              "    (0): BasicBlock(\n",
              "      (conv1): Conv2d(64, 128, kernel_size=(3, 3), stride=(2, 2), padding=(1, 1), bias=False)\n",
              "      (bn1): BatchNorm2d(128, eps=1e-05, momentum=0.1, affine=True, track_running_stats=True)\n",
              "      (relu): ReLU(inplace=True)\n",
              "      (conv2): Conv2d(128, 128, kernel_size=(3, 3), stride=(1, 1), padding=(1, 1), bias=False)\n",
              "      (bn2): BatchNorm2d(128, eps=1e-05, momentum=0.1, affine=True, track_running_stats=True)\n",
              "      (downsample): Sequential(\n",
              "        (0): Conv2d(64, 128, kernel_size=(1, 1), stride=(2, 2), bias=False)\n",
              "        (1): BatchNorm2d(128, eps=1e-05, momentum=0.1, affine=True, track_running_stats=True)\n",
              "      )\n",
              "    )\n",
              "    (1): BasicBlock(\n",
              "      (conv1): Conv2d(128, 128, kernel_size=(3, 3), stride=(1, 1), padding=(1, 1), bias=False)\n",
              "      (bn1): BatchNorm2d(128, eps=1e-05, momentum=0.1, affine=True, track_running_stats=True)\n",
              "      (relu): ReLU(inplace=True)\n",
              "      (conv2): Conv2d(128, 128, kernel_size=(3, 3), stride=(1, 1), padding=(1, 1), bias=False)\n",
              "      (bn2): BatchNorm2d(128, eps=1e-05, momentum=0.1, affine=True, track_running_stats=True)\n",
              "    )\n",
              "  )\n",
              "  (layer3): Sequential(\n",
              "    (0): BasicBlock(\n",
              "      (conv1): Conv2d(128, 256, kernel_size=(3, 3), stride=(2, 2), padding=(1, 1), bias=False)\n",
              "      (bn1): BatchNorm2d(256, eps=1e-05, momentum=0.1, affine=True, track_running_stats=True)\n",
              "      (relu): ReLU(inplace=True)\n",
              "      (conv2): Conv2d(256, 256, kernel_size=(3, 3), stride=(1, 1), padding=(1, 1), bias=False)\n",
              "      (bn2): BatchNorm2d(256, eps=1e-05, momentum=0.1, affine=True, track_running_stats=True)\n",
              "      (downsample): Sequential(\n",
              "        (0): Conv2d(128, 256, kernel_size=(1, 1), stride=(2, 2), bias=False)\n",
              "        (1): BatchNorm2d(256, eps=1e-05, momentum=0.1, affine=True, track_running_stats=True)\n",
              "      )\n",
              "    )\n",
              "    (1): BasicBlock(\n",
              "      (conv1): Conv2d(256, 256, kernel_size=(3, 3), stride=(1, 1), padding=(1, 1), bias=False)\n",
              "      (bn1): BatchNorm2d(256, eps=1e-05, momentum=0.1, affine=True, track_running_stats=True)\n",
              "      (relu): ReLU(inplace=True)\n",
              "      (conv2): Conv2d(256, 256, kernel_size=(3, 3), stride=(1, 1), padding=(1, 1), bias=False)\n",
              "      (bn2): BatchNorm2d(256, eps=1e-05, momentum=0.1, affine=True, track_running_stats=True)\n",
              "    )\n",
              "  )\n",
              "  (layer4): Sequential(\n",
              "    (0): BasicBlock(\n",
              "      (conv1): Conv2d(256, 512, kernel_size=(3, 3), stride=(2, 2), padding=(1, 1), bias=False)\n",
              "      (bn1): BatchNorm2d(512, eps=1e-05, momentum=0.1, affine=True, track_running_stats=True)\n",
              "      (relu): ReLU(inplace=True)\n",
              "      (conv2): Conv2d(512, 512, kernel_size=(3, 3), stride=(1, 1), padding=(1, 1), bias=False)\n",
              "      (bn2): BatchNorm2d(512, eps=1e-05, momentum=0.1, affine=True, track_running_stats=True)\n",
              "      (downsample): Sequential(\n",
              "        (0): Conv2d(256, 512, kernel_size=(1, 1), stride=(2, 2), bias=False)\n",
              "        (1): BatchNorm2d(512, eps=1e-05, momentum=0.1, affine=True, track_running_stats=True)\n",
              "      )\n",
              "    )\n",
              "    (1): BasicBlock(\n",
              "      (conv1): Conv2d(512, 512, kernel_size=(3, 3), stride=(1, 1), padding=(1, 1), bias=False)\n",
              "      (bn1): BatchNorm2d(512, eps=1e-05, momentum=0.1, affine=True, track_running_stats=True)\n",
              "      (relu): ReLU(inplace=True)\n",
              "      (conv2): Conv2d(512, 512, kernel_size=(3, 3), stride=(1, 1), padding=(1, 1), bias=False)\n",
              "      (bn2): BatchNorm2d(512, eps=1e-05, momentum=0.1, affine=True, track_running_stats=True)\n",
              "    )\n",
              "  )\n",
              "  (avgpool): AdaptiveAvgPool2d(output_size=(1, 1))\n",
              "  (fc): Linear(in_features=512, out_features=2, bias=True)\n",
              ")"
            ]
          },
          "metadata": {},
          "execution_count": 5
        }
      ]
    },
    {
      "cell_type": "code",
      "source": [
        "def evaluate(model, val_loader):\n",
        "    model.eval()\n",
        "    val_loss = 0.0\n",
        "    correct = 0\n",
        "    total = 0\n",
        "\n",
        "    with torch.no_grad():\n",
        "        for images, labels in val_loader:\n",
        "            images, labels = images.to(device), labels.to(device)\n",
        "\n",
        "            outputs = model(images)\n",
        "            loss = criterion(outputs, labels)\n",
        "            val_loss += loss.item()\n",
        "\n",
        "            _, predicted = torch.max(outputs, 1)\n",
        "            total += labels.size(0)\n",
        "            correct += (predicted == labels).sum().item()\n",
        "\n",
        "    avg_loss = val_loss / len(val_loader)\n",
        "    accuracy = 100 * correct / total\n",
        "    return avg_loss, accuracy\n"
      ],
      "metadata": {
        "id": "OFIL-FB0K9oR"
      },
      "id": "OFIL-FB0K9oR",
      "execution_count": 6,
      "outputs": []
    },
    {
      "cell_type": "markdown",
      "source": [
        "# Step 4: Training"
      ],
      "metadata": {
        "id": "26Xzz7ZlK0BP"
      },
      "id": "26Xzz7ZlK0BP"
    },
    {
      "cell_type": "code",
      "source": [
        "# num_epochs = 50\n",
        "\n",
        "# for epoch in range(num_epochs):\n",
        "#     model.train()\n",
        "#     running_loss = 0.0\n",
        "\n",
        "#     for images, labels in train_loader:\n",
        "#         images, labels = images.to(device), labels.to(device)\n",
        "\n",
        "#         # Forward + Backward + Optimize\n",
        "#         outputs = model(images)\n",
        "#         loss = criterion(outputs, labels)\n",
        "#         optimizer.zero_grad()\n",
        "#         loss.backward()\n",
        "#         optimizer.step()\n",
        "\n",
        "#         running_loss += loss.item()\n",
        "\n",
        "#     # Validation step\n",
        "#     val_loss, val_acc = evaluate(model, val_loader)\n",
        "\n",
        "#     print(f\"Epoch [{epoch+1}/{num_epochs}]\")\n",
        "#     print(f\"Train Loss: {running_loss/len(train_loader):.4f} | \"\n",
        "#           f\"Val Loss: {val_loss:.4f} | Val Acc: {val_acc:.2f}%\\n\")\n"
      ],
      "metadata": {
        "id": "-vBCw-EGKu4y"
      },
      "id": "-vBCw-EGKu4y",
      "execution_count": 7,
      "outputs": []
    },
    {
      "cell_type": "code",
      "source": [
        "train_losses = []\n",
        "val_losses = []\n",
        "\n",
        "num_epochs = 50\n",
        "\n",
        "for epoch in range(num_epochs):\n",
        "    model.train()\n",
        "    running_loss = 0.0\n",
        "\n",
        "    for images, labels in train_loader:\n",
        "        images, labels = images.to(device), labels.to(device)\n",
        "\n",
        "        outputs = model(images)\n",
        "        loss = criterion(outputs, labels)\n",
        "\n",
        "        optimizer.zero_grad()\n",
        "        loss.backward()\n",
        "        optimizer.step()\n",
        "\n",
        "        running_loss += loss.item()\n",
        "\n",
        "    avg_train_loss = running_loss / len(train_loader)\n",
        "    val_loss, val_acc = evaluate(model, val_loader)\n",
        "\n",
        "    # Store for graph\n",
        "    train_losses.append(avg_train_loss)\n",
        "    val_losses.append(val_loss)\n",
        "\n",
        "    # Print every 5 epochs (or final epoch)\n",
        "    if (epoch + 1) % 5 == 0 or (epoch + 1) == num_epochs:\n",
        "        print(f\"Epoch [{epoch+1}/{num_epochs}]\")\n",
        "        print(f\"Train Loss: {avg_train_loss:.4f} | \"\n",
        "              f\"Val Loss: {val_loss:.4f} | Val Acc: {val_acc:.2f}%\\n\")"
      ],
      "metadata": {
        "id": "IsvmF4uhcBRu",
        "outputId": "599c5ca6-8971-49d6-c5ac-f7897e815c5f",
        "colab": {
          "base_uri": "https://localhost:8080/"
        }
      },
      "id": "IsvmF4uhcBRu",
      "execution_count": 8,
      "outputs": [
        {
          "output_type": "stream",
          "name": "stdout",
          "text": [
            "Epoch [5/50]\n",
            "Train Loss: 0.3826 | Val Loss: 0.3675 | Val Acc: 86.96%\n",
            "\n",
            "Epoch [10/50]\n",
            "Train Loss: 0.2791 | Val Loss: 0.2811 | Val Acc: 88.20%\n",
            "\n",
            "Epoch [15/50]\n",
            "Train Loss: 0.2103 | Val Loss: 0.2544 | Val Acc: 90.06%\n",
            "\n",
            "Epoch [20/50]\n",
            "Train Loss: 0.2188 | Val Loss: 0.2413 | Val Acc: 90.68%\n",
            "\n",
            "Epoch [25/50]\n",
            "Train Loss: 0.1863 | Val Loss: 0.2200 | Val Acc: 92.55%\n",
            "\n",
            "Epoch [30/50]\n",
            "Train Loss: 0.1515 | Val Loss: 0.2032 | Val Acc: 91.30%\n",
            "\n",
            "Epoch [35/50]\n",
            "Train Loss: 0.1473 | Val Loss: 0.1961 | Val Acc: 91.30%\n",
            "\n",
            "Epoch [40/50]\n",
            "Train Loss: 0.1494 | Val Loss: 0.2040 | Val Acc: 91.30%\n",
            "\n",
            "Epoch [45/50]\n",
            "Train Loss: 0.1198 | Val Loss: 0.2073 | Val Acc: 92.55%\n",
            "\n",
            "Epoch [50/50]\n",
            "Train Loss: 0.1227 | Val Loss: 0.2013 | Val Acc: 91.93%\n",
            "\n"
          ]
        }
      ]
    },
    {
      "cell_type": "code",
      "source": [
        "# Plotting after training\n",
        "plt.figure(figsize=(10, 6))\n",
        "plt.plot(train_losses, label=\"Train Loss\", marker='o')\n",
        "plt.plot(val_losses, label=\"Validation Loss\", marker='s')\n",
        "plt.title(\"Training and Validation Loss over Epochs\")\n",
        "plt.xlabel(\"Epoch\")\n",
        "plt.ylabel(\"Loss\")\n",
        "plt.legend()\n",
        "plt.grid(True)\n",
        "plt.tight_layout()\n",
        "plt.show()\n"
      ],
      "metadata": {
        "id": "_lXzvi10cF6n",
        "outputId": "a074e136-8e8e-45aa-e997-b632f0074ac0",
        "colab": {
          "base_uri": "https://localhost:8080/",
          "height": 607
        }
      },
      "id": "_lXzvi10cF6n",
      "execution_count": 9,
      "outputs": [
        {
          "output_type": "display_data",
          "data": {
            "text/plain": [
              "<Figure size 1000x600 with 1 Axes>"
            ],
            "image/png": "[encoded data removed]"
          },
          "metadata": {}
        }
      ]
    },
    {
      "cell_type": "markdown",
      "source": [
        "# Step 6: Evaluate the Model on Test Data"
      ],
      "metadata": {
        "id": "4YissutfLFYD"
      },
      "id": "4YissutfLFYD"
    },
    {
      "cell_type": "code",
      "source": [
        "def generate_classification_report(model, dataloader, class_names, device, name=\"\"):\n",
        "    model.eval()\n",
        "    preds_list = []\n",
        "    labels_list = []\n",
        "\n",
        "    with torch.no_grad():\n",
        "        for batch in dataloader:\n",
        "            if isinstance(batch, (list, tuple)):\n",
        "                images, labels = batch\n",
        "            else:\n",
        "                images = batch\n",
        "                labels = None  # Just in case, unlikely in this use case\n",
        "\n",
        "            images = images.to(device)\n",
        "            labels = labels.to(device)\n",
        "\n",
        "            outputs = model(images)\n",
        "            _, preds = torch.max(outputs, 1)\n",
        "\n",
        "            preds_list.extend(preds.cpu().tolist())\n",
        "            labels_list.extend(labels.cpu().tolist())\n",
        "\n",
        "    print(f\"\\n📊 Classification Report - {name} Set\\n\")\n",
        "    print(classification_report(labels_list, preds_list, target_names=class_names))\n"
      ],
      "metadata": {
        "id": "KicKYLPoOgm5"
      },
      "id": "KicKYLPoOgm5",
      "execution_count": 10,
      "outputs": []
    },
    {
      "cell_type": "code",
      "source": [
        "class_names = train_ds.classes\n",
        "generate_classification_report(model, test_loader, class_names, device, name=\"Test\")"
      ],
      "metadata": {
        "colab": {
          "base_uri": "https://localhost:8080/"
        },
        "id": "8tcc4WJ-Oij2",
        "outputId": "40c06f96-611d-46b5-b84b-55256493d563"
      },
      "id": "8tcc4WJ-Oij2",
      "execution_count": 11,
      "outputs": [
        {
          "output_type": "stream",
          "name": "stdout",
          "text": [
            "\n",
            "📊 Classification Report - Test Set\n",
            "\n",
            "              precision    recall  f1-score   support\n",
            "\n",
            "     chicken       0.98      0.89      0.93       172\n",
            "        duck       0.94      0.99      0.97       310\n",
            "\n",
            "    accuracy                           0.95       482\n",
            "   macro avg       0.96      0.94      0.95       482\n",
            "weighted avg       0.96      0.95      0.95       482\n",
            "\n"
          ]
        }
      ]
    },
    {
      "cell_type": "code",
      "source": [
        "generate_classification_report(model, val_loader, class_names, device, name=\"Validation\")"
      ],
      "metadata": {
        "colab": {
          "base_uri": "https://localhost:8080/"
        },
        "id": "21jSlyZAN0sl",
        "outputId": "8a757bdb-486d-4601-d830-ca538536c9af"
      },
      "id": "21jSlyZAN0sl",
      "execution_count": 12,
      "outputs": [
        {
          "output_type": "stream",
          "name": "stdout",
          "text": [
            "\n",
            "📊 Classification Report - Validation Set\n",
            "\n",
            "              precision    recall  f1-score   support\n",
            "\n",
            "     chicken       0.98      0.77      0.86        52\n",
            "        duck       0.90      0.99      0.94       109\n",
            "\n",
            "    accuracy                           0.92       161\n",
            "   macro avg       0.94      0.88      0.90       161\n",
            "weighted avg       0.92      0.92      0.92       161\n",
            "\n"
          ]
        }
      ]
    },
    {
      "cell_type": "code",
      "source": [
        "generate_classification_report(model, train_loader, class_names, device, name=\"Train\")"
      ],
      "metadata": {
        "colab": {
          "base_uri": "https://localhost:8080/"
        },
        "id": "XqBS2e7TPlZx",
        "outputId": "822d8929-0798-4117-950e-397c0cd0c755"
      },
      "id": "XqBS2e7TPlZx",
      "execution_count": 13,
      "outputs": [
        {
          "output_type": "stream",
          "name": "stdout",
          "text": [
            "\n",
            "📊 Classification Report - Train Set\n",
            "\n",
            "              precision    recall  f1-score   support\n",
            "\n",
            "     chicken       0.98      0.93      0.95       275\n",
            "        duck       0.97      0.99      0.98       622\n",
            "\n",
            "    accuracy                           0.97       897\n",
            "   macro avg       0.97      0.96      0.97       897\n",
            "weighted avg       0.97      0.97      0.97       897\n",
            "\n"
          ]
        }
      ]
    },
    {
      "cell_type": "code",
      "source": [],
      "metadata": {
        "id": "1FlLWF4xPlvb"
      },
      "id": "1FlLWF4xPlvb",
      "execution_count": 13,
      "outputs": []
    }
  ],
  "metadata": {
    "language_info": {
      "name": "python"
    },
    "colab": {
      "provenance": [],
      "toc_visible": true,
      "gpuType": "T4"
    },
    "kernelspec": {
      "name": "python3",
      "display_name": "Python 3"
    },
    "accelerator": "GPU"
  },
  "nbformat": 4,
  "nbformat_minor": 5
}